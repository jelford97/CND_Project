{
 "cells": [
  {
   "cell_type": "code",
   "execution_count": 1,
   "metadata": {},
   "outputs": [],
   "source": [
    "import numpy as np\n",
    "import matplotlib.pyplot as plt\n",
    "from gastimator import gastimator\n",
    "import pandas as pd\n",
    "from gastimator import priors\n",
    "from gastimator import corner_plot\n",
    "import math"
   ]
  },
  {
   "cell_type": "code",
   "execution_count": 2,
   "metadata": {},
   "outputs": [],
   "source": [
    "SED=pd.read_csv('Documents/NuclearSED.csv')\n",
    "mcmcdet=pd.read_csv('Documents/MCMCfit.csv')\n",
    "SEDdust=pd.read_csv('Documents/DustSED.csv')\n",
    "mcmcdust=pd.read_csv('Documents/MCMCdust.csv')"
   ]
  },
  {
   "cell_type": "code",
   "execution_count": 3,
   "metadata": {},
   "outputs": [],
   "source": [
    "def dust_black_body(values,v,D):\n",
    "    d=D*3.0856e22\n",
    "    mlog=10**(values[0])\n",
    "    m=mlog*2e30\n",
    "    c=3e8\n",
    "    h=6.626e-34\n",
    "    kb=1.38e-23\n",
    "    v0=6e11\n",
    "    T=values[1]\n",
    "    b=values[2]\n",
    "    B=((2*h*v**3/c**2)*1/(np.exp(h*v/(kb*T))))\n",
    "    k0=0.051\n",
    "    k=k0*((v/v0)**b)\n",
    "    S=(k*B*m/(d**2))\n",
    "    sj=S/1e-26\n",
    "    return sj"
   ]
  },
  {
   "cell_type": "code",
   "execution_count": 24,
   "metadata": {},
   "outputs": [],
   "source": [
    "i=30\n",
    "SEDdfreq=mcmcdust['SED Freq']\n",
    "SEDdflux=mcmcdust['SED Flux']\n",
    "SEDdrms=mcmcdust['SED RMS']\n",
    "dustfreq=SEDdust[SEDdfreq[i]]\n",
    "dustflux=SEDdust[SEDdflux[i]]\n",
    "dustrms=SEDdust[SEDdrms[i]]\n",
    "distsdust=mcmcdust['Distance']\n",
    "dmassmax=mcmcdust['Mass Max']\n",
    "dmassmin=mcmcdust['Mass Min']\n",
    "dmassguess=mcmcdust['Mass Guess']\n",
    "dtempmax=mcmcdust['Temp Max']\n",
    "dtempmin=mcmcdust['Temp Min']\n",
    "dtempguess=mcmcdust['Temp Guess']\n",
    "dbetamax=mcmcdust['Beta Max']\n",
    "dbetamin=mcmcdust['Beta Min']\n",
    "dbetaguess=mcmcdust['Beta Guess']\n",
    "c=3e5\n",
    "H0=70\n",
    "z=(distsdust[i]/c)*H0\n",
    "dustfreqe=(1+z)*dustfreq"
   ]
  },
  {
   "cell_type": "code",
   "execution_count": 25,
   "metadata": {},
   "outputs": [],
   "source": [
    "mcmcdfit=gastimator(dust_black_body,dustfreqe,distsdust[i])"
   ]
  },
  {
   "cell_type": "code",
   "execution_count": 26,
   "metadata": {},
   "outputs": [],
   "source": [
    "mcmcdfit.labels=np.array(['Mass','Temp','Beta'])\n",
    "mcmcdfit.guesses=np.array([dmassguess[i],dtempguess[i],dbetaguess[i]])\n",
    "mcmcdfit.max=np.array([dmassmax[i],dtempmax[i],dbetamax[i]])\n",
    "mcmcdfit.min=np.array([dmassmin[i],dtempmin[i],dbetamin[i]])\n",
    "mcmcdfit.fixed=np.array([False,False,False])\n",
    "mcmcdfit.precision=np.array([1,0.1,0.1])"
   ]
  },
  {
   "cell_type": "code",
   "execution_count": 27,
   "metadata": {},
   "outputs": [
    {
     "name": "stdout",
     "output_type": "stream",
     "text": [
      "Doing chain 1\n",
      "     Chain has not converged - Accept rate: 0.08\n",
      "     Chain has not converged - Accept rate: 0.15333333333333332\n",
      "     Still varying: ['Temp']\n",
      "     Chain has not converged - Accept rate: 0.41333333333333333\n",
      "     Still varying: ['Temp']\n",
      "     Chain has not converged - Accept rate: 0.44666666666666666\n",
      "     Still varying: ['Temp']\n",
      "     Chain has not converged - Accept rate: 0.36\n",
      "     Still varying: ['Temp']\n",
      "     Chain has not converged - Accept rate: 0.4266666666666667\n",
      "     Still varying: ['Temp']\n",
      "     Chain has not converged - Accept rate: 0.5333333333333333\n",
      "     Still varying: ['Temp']\n",
      "     Chain has not converged - Accept rate: 0.47333333333333333\n",
      "     Still varying: ['Temp']\n",
      "     Chain has not converged - Accept rate: 0.52\n",
      "     Still varying: ['Temp']\n",
      "     Chain has not converged - Accept rate: 0.5\n",
      "     Still varying: ['Temp']\n",
      "     Chain has not converged - Accept rate: 0.4533333333333333\n",
      "     Still varying: ['Temp']\n",
      "Chain converged: LL: -45.03780361910337 - Accept rate:0.5533333333333333\n",
      "Best chain so far!\n",
      "Best fit:\n",
      "  Mass: 8.118720662666373\n",
      "  Temp: 28.72241892527496\n",
      "  Beta: 1.5945943669593847\n",
      "Starting final chain\n",
      "Final best fit values and 1sigma errors:\n",
      "  Mass: 8.145569952002775 + 0.006636990365477047 - 0.008957002959123272\n",
      "  Temp: 29.13293215043128 + 0.07228503393231378 - 0.08093590973432185\n",
      "  Beta: 1.5101249828021286 + 0.009382383313783604 - 0.006914399042205366\n"
     ]
    }
   ],
   "source": [
    "dustsamples=10000\n",
    "outputvaluedust,outputlldust=mcmcdfit.run(dustflux,dustrms,dustsamples,nchains=1,plot=False)"
   ]
  },
  {
   "cell_type": "code",
   "execution_count": null,
   "metadata": {},
   "outputs": [],
   "source": []
  }
 ],
 "metadata": {
  "kernelspec": {
   "display_name": "Python 3",
   "language": "python",
   "name": "python3"
  },
  "language_info": {
   "codemirror_mode": {
    "name": "ipython",
    "version": 3
   },
   "file_extension": ".py",
   "mimetype": "text/x-python",
   "name": "python",
   "nbconvert_exporter": "python",
   "pygments_lexer": "ipython3",
   "version": "3.8.3"
  }
 },
 "nbformat": 4,
 "nbformat_minor": 4
}
