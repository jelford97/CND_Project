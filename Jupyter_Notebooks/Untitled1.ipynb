{
 "cells": [
  {
   "cell_type": "code",
   "execution_count": 1,
   "id": "9074c1a3",
   "metadata": {},
   "outputs": [],
   "source": [
    "from astropy.io import fits"
   ]
  },
  {
   "cell_type": "code",
   "execution_count": 2,
   "id": "400bdb30",
   "metadata": {},
   "outputs": [],
   "source": [
    "hdu=fits.open('/Users/jelford/Documents/PhD_Work/WISDOM_Data/Continuum_images/FRL1146/FRL1146_continuum.fits')"
   ]
  },
  {
   "cell_type": "code",
   "execution_count": 4,
   "id": "791e7ff0",
   "metadata": {},
   "outputs": [],
   "source": [
    "hdr=hdu[0].header"
   ]
  },
  {
   "cell_type": "code",
   "execution_count": 5,
   "id": "90fb1c20",
   "metadata": {},
   "outputs": [
    {
     "name": "stdout",
     "output_type": "stream",
     "text": [
      "SIMPLE  =                    T /Standard FITS                                   BITPIX  =                  -32 /Floating point (32 bit)                         NAXIS   =                    4                                                  NAXIS1  =                  512                                                  NAXIS2  =                  512                                                  NAXIS3  =                    1                                                  NAXIS4  =                    1                                                  EXTEND  =                    T                                                  BSCALE  =   1.000000000000E+00 /PHYSICAL = PIXEL*BSCALE + BZERO                 BZERO   =   0.000000000000E+00                                                  BMAJ    =   7.768768403265E-05                                                  BMIN    =   7.286722461383E-05                                                  BPA     =   7.752156066895E+01                                                  BTYPE   = 'Intensity'                                                           OBJECT  = 'PGC024297'                                                           BUNIT   = 'Jy/beam '           /Brightness (pixel) unit                         RADESYS = 'ICRS    '                                                            LONPOLE =   1.800000000000E+02                                                  LATPOLE =  -3.599268055556E+01                                                  PC1_1   =   1.000000000000E+00                                                  PC2_1   =   0.000000000000E+00                                                  PC3_1   =   0.000000000000E+00                                                  PC4_1   =   0.000000000000E+00                                                  PC1_2   =   0.000000000000E+00                                                  PC2_2   =   1.000000000000E+00                                                  PC3_2   =   0.000000000000E+00                                                  PC4_2   =   0.000000000000E+00                                                  PC1_3   =   0.000000000000E+00                                                  PC2_3   =   0.000000000000E+00                                                  PC3_3   =   1.000000000000E+00                                                  PC4_3   =   0.000000000000E+00                                                  PC1_4   =   0.000000000000E+00                                                  PC2_4   =   0.000000000000E+00                                                  PC3_4   =   0.000000000000E+00                                                  PC4_4   =   1.000000000000E+00                                                  CTYPE1  = 'RA---SIN'                                                            CRVAL1  =   1.296282958333E+02                                                  CDELT1  =  -1.388888888889E-05                                                  CRPIX1  =   2.570000000000E+02                                                  CUNIT1  = 'deg     '                                                            CTYPE2  = 'DEC--SIN'                                                            CRVAL2  =  -3.599268055556E+01                                                  CDELT2  =   1.388888888889E-05                                                  CRPIX2  =   2.570000000000E+02                                                  CUNIT2  = 'deg     '                                                            CTYPE3  = 'FREQ    '                                                            CRVAL3  =   0.000000000000E+00                                                  CDELT3  =  4.620107155890E+281                                                  CRPIX3  =   1.000000000000E+00                                                  CUNIT3  = 'Hz      '                                                            CTYPE4  = 'STOKES  '                                                            CRVAL4  =   1.000000000000E+00                                                  CDELT4  =   1.000000000000E+00                                                  CRPIX4  =   1.000000000000E+00                                                  CUNIT4  = '        '                                                            PV2_1   =   0.000000000000E+00                                                  PV2_2   =   0.000000000000E+00                                                  RESTFRQ =   2.305380000000E+11 /Rest Frequency (Hz)                             SPECSYS = 'LSRK    '           /Spectral reference frame                        ALTRVAL =   2.997924580000E+08 /Alternate frequency reference value             ALTRPIX =   1.000000000000E+00 /Alternate frequency reference pixel             VELREF  =                  257 /1 LSR, 2 HEL, 3 OBS, +256 Radio                 COMMENT casacore non-standard usage: 4 LSD, 5 GEO, 6 SOU, 7 GAL                 TELESCOP= 'ALMA    '                                                            OBSERVER= 'bureau  '                                                            DATE-OBS= '2017-07-02T18:17:03.456000'                                          TIMESYS = 'UTC     '                                                            OBSRA   =   1.296282958333E+02                                                  OBSDEC  =  -3.599268055556E+01                                                  OBSGEO-X=   2.225142180269E+06                                                  OBSGEO-Y=  -5.440307370349E+06                                                  OBSGEO-Z=  -2.481029851874E+06                                                  INSTRUME= 'ALMA    '                                                            DISTANCE=   0.000000000000E+00                                                  USEWEIGH=                    T                                                  DATE    = '2020-12-02T10:50:58.370552' /Date FITS file was written              ORIGIN  = 'CASA 5.6.1-8'                                                        END                                                                                                                                                                                                                                                                                                                                                                                                                                                                                                                                                                                                                                                                                                                                                                                                                                                                                                                                                                                                                                                                                                                                                                                                                                                                                                                                                                                                                                                                                                                                                                                                                                                                                                                                                                                                                                                                                                                                                                                                                                                                                                                                                                                                                                                                                                                                                                                                                                                                                                                                                                             \n"
     ]
    }
   ],
   "source": [
    "print(hdr[''])"
   ]
  },
  {
   "cell_type": "code",
   "execution_count": null,
   "id": "2ec96741",
   "metadata": {},
   "outputs": [],
   "source": []
  }
 ],
 "metadata": {
  "kernelspec": {
   "display_name": "Python 3 (ipykernel)",
   "language": "python",
   "name": "python3"
  },
  "language_info": {
   "codemirror_mode": {
    "name": "ipython",
    "version": 3
   },
   "file_extension": ".py",
   "mimetype": "text/x-python",
   "name": "python",
   "nbconvert_exporter": "python",
   "pygments_lexer": "ipython3",
   "version": "3.9.12"
  }
 },
 "nbformat": 4,
 "nbformat_minor": 5
}
