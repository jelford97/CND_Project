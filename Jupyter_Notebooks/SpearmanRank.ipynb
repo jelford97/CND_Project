{
 "cells": [
  {
   "cell_type": "code",
   "execution_count": 20,
   "metadata": {},
   "outputs": [],
   "source": [
    "import numpy as np\n",
    "import pandas as pd\n",
    "import scipy.stats as stats\n",
    "import matplotlib.pyplot as plt"
   ]
  },
  {
   "cell_type": "code",
   "execution_count": 21,
   "metadata": {},
   "outputs": [],
   "source": [
    "data=pd.read_csv('Documents/Python.csv')\n",
    "synch=data[data['Dominant']=='Synch']\n",
    "therm=data[data['Dominant']=='Thermal']\n",
    "dect=data[data['Detection']=='Yes']\n",
    "dects=dect[dect['Dominant']=='Synch']\n",
    "dectt=dect[dect['Dominant']=='Thermal']\n",
    "em=['Radio Flux (Jy)','Adjusted X-ray Flux (Jy)','1mm flux density (Jy)','Accretion rate (M_solar/yr)']\n",
    "mass=['Mass 100pc','Mass 75pc','Mass 50pc']"
   ]
  },
  {
   "cell_type": "code",
   "execution_count": 24,
   "metadata": {},
   "outputs": [
    {
     "data": {
      "text/plain": [
       "SpearmanrResult(correlation=0.44055944055944063, pvalue=0.15173503571673022)"
      ]
     },
     "execution_count": 24,
     "metadata": {},
     "output_type": "execute_result"
    }
   ],
   "source": [
    "i=3\n",
    "j=2\n",
    "if i==2:\n",
    "    emms=dect[[em[i],mass[j]]]\n",
    "else:\n",
    "    emms=data[[em[i],mass[j]]]\n",
    "emmsdn=emms.dropna()\n",
    "stats.spearmanr(emmsdn[mass[j]],emmsdn[em[i]])"
   ]
  },
  {
   "cell_type": "code",
   "execution_count": null,
   "metadata": {},
   "outputs": [],
   "source": []
  }
 ],
 "metadata": {
  "kernelspec": {
   "display_name": "Python 3",
   "language": "python",
   "name": "python3"
  },
  "language_info": {
   "codemirror_mode": {
    "name": "ipython",
    "version": 3
   },
   "file_extension": ".py",
   "mimetype": "text/x-python",
   "name": "python",
   "nbconvert_exporter": "python",
   "pygments_lexer": "ipython3",
   "version": "3.8.3"
  }
 },
 "nbformat": 4,
 "nbformat_minor": 4
}
