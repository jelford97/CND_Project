{
 "cells": [
  {
   "cell_type": "code",
   "execution_count": 4,
   "metadata": {},
   "outputs": [],
   "source": [
    "import pandas as pd\n",
    "import scipy.stats as stats\n",
    "import numpy as np"
   ]
  },
  {
   "cell_type": "code",
   "execution_count": 5,
   "metadata": {},
   "outputs": [],
   "source": [
    "radio100pc=pd.DataFrame({\"Radio flux\":[np.NaN,7.40E-02,4.86E+00,7.59E-02,3.10E-03,5.14E+00,6.57E-02,2.50E-03,4.00E-03,np.NaN,9.32E-02,2.81E-02,6.90E-03,5.70E+00,3.86E-01,2.20E+01,1.00E-04,4.00E-03,6.33E-02,2.77E-01,6.00E-04,1.03E-01,2.32E-02,3.07E-02,1.50E-02,3.76E-02,2.27E-02,3.60E-03,4.25E-02,1.52E-01,1.53E-02,1.71E-01,np.NaN,2.08E-01], \"Mass 100pc region\":[np.NaN,1.13E+08,4.23E+07,np.NaN,4.36E+06,np.NaN,1.49E+08,1.41E+07,8.13E+06,np.NaN,7.72E+07,1.23E+08,5.99E+07,np.NaN,np.NaN,np.NaN,5.76E+06,5.18E+07,1.04E+08,7.53E+07,1.15E+06,np.NaN,np.NaN,np.NaN,5.96E+07,np.NaN,2.16E+08,1.40E+06,np.NaN,1.42E+08,2.51E+07,1.05E+08,np.NaN,1.07E+08]})"
   ]
  },
  {
   "cell_type": "code",
   "execution_count": 9,
   "metadata": {},
   "outputs": [],
   "source": [
    "radio100pcnew=radio100pc.dropna()"
   ]
  },
  {
   "cell_type": "code",
   "execution_count": 12,
   "metadata": {},
   "outputs": [
    {
     "data": {
      "text/plain": [
       "SpearmanrResult(correlation=0.6768431665842242, pvalue=0.000752568059055202)"
      ]
     },
     "execution_count": 12,
     "metadata": {},
     "output_type": "execute_result"
    }
   ],
   "source": [
    "stats.spearmanr(radio100pcnew[\"Mass 100pc region\"],radio100pcnew[\"Radio flux\"])"
   ]
  },
  {
   "cell_type": "code",
   "execution_count": 13,
   "metadata": {},
   "outputs": [],
   "source": [
    "radio75pc=pd.DataFrame({\"Radio flux\":[np.NaN,7.40E-02,4.86E+00,7.59E-02,3.10E-03,5.14E+00,6.57E-02,2.50E-03,4.00E-03,np.NaN,9.32E-02,2.81E-02,6.90E-03,5.70E+00,3.86E-01,2.20E+01,1.00E-04,4.00E-03,6.33E-02,2.77E-01,6.00E-04,1.03E-01,2.32E-02,3.07E-02,1.50E-02,3.76E-02,2.27E-02,3.60E-03,4.25E-02,1.52E-01,1.53E-02,1.71E-01,np.NaN,2.08E-01], \"Mass 75pc region\":[np.NaN,np.NaN,2.41E+07,np.NaN,2.78E+06,np.NaN,9.49E+07,9.45E+06,4.27E+06,np.NaN,4.75E+07,8.24E+07,4.18E+07,np.NaN,np.NaN,np.NaN,2.84E+06,3.53E+07,6.53E+07,5.03E+07,1.17E+06,np.NaN,np.NaN,np.NaN,3.88E+07,np.NaN,np.NaN,5.09E+05,np.NaN,8.82E+07,1.90E+07,6.35E+07,np.NaN,6.11E+07]})"
   ]
  },
  {
   "cell_type": "code",
   "execution_count": 14,
   "metadata": {},
   "outputs": [],
   "source": [
    "radio75pcnew=radio75pc.dropna()"
   ]
  },
  {
   "cell_type": "code",
   "execution_count": null,
   "metadata": {},
   "outputs": [],
   "source": []
  },
  {
   "cell_type": "code",
   "execution_count": 16,
   "metadata": {},
   "outputs": [
    {
     "data": {
      "text/plain": [
       "SpearmanrResult(correlation=0.7196139350062861, pvalue=0.0005140343096140752)"
      ]
     },
     "execution_count": 16,
     "metadata": {},
     "output_type": "execute_result"
    }
   ],
   "source": [
    "stats.spearmanr(radio75pcnew[\"Mass 75pc region\"],radio75pcnew[\"Radio flux\"])"
   ]
  },
  {
   "cell_type": "code",
   "execution_count": 17,
   "metadata": {},
   "outputs": [],
   "source": [
    "radio50pc=pd.DataFrame({\"Radio flux\":[np.NaN,7.40E-02,4.86E+00,7.59E-02,3.10E-03,5.14E+00,6.57E-02,2.50E-03,4.00E-03,np.NaN,9.32E-02,2.81E-02,6.90E-03,5.70E+00,3.86E-01,2.20E+01,1.00E-04,4.00E-03,6.33E-02,2.77E-01,6.00E-04,1.03E-01,2.32E-02,3.07E-02,1.50E-02,3.76E-02,2.27E-02,3.60E-03,4.25E-02,1.52E-01,1.53E-02,1.71E-01,np.NaN,2.08E-01],\"Mass 50pc region\":[np.NaN,np.NaN,1.03E+07,np.NaN,1.38E+06,np.NaN,4.59E+07,np.NaN,1.96E+06,np.NaN,np.NaN,4.56E+07,np.NaN,np.NaN,np.NaN,np.NaN,8.48E+05,1.77E+07,3.14E+07,2.61E+07,1.03E+06,np.NaN,np.NaN,np.NaN,1.72E+07,np.NaN,np.NaN,1.76E+05,np.NaN,3.99E+07,1.15E+07,3.10E+07,np.NaN,2.58E+07]})"
   ]
  },
  {
   "cell_type": "code",
   "execution_count": 18,
   "metadata": {},
   "outputs": [],
   "source": [
    "radio50pcnew=radio50pc.dropna()"
   ]
  },
  {
   "cell_type": "code",
   "execution_count": 19,
   "metadata": {},
   "outputs": [
    {
     "data": {
      "text/plain": [
       "SpearmanrResult(correlation=0.6563651519413651, pvalue=0.005752431959587673)"
      ]
     },
     "execution_count": 19,
     "metadata": {},
     "output_type": "execute_result"
    }
   ],
   "source": [
    "stats.spearmanr(radio50pcnew[\"Mass 50pc region\"],radio50pcnew[\"Radio flux\"])"
   ]
  },
  {
   "cell_type": "code",
   "execution_count": 20,
   "metadata": {},
   "outputs": [],
   "source": [
    "radio25pc=pd.DataFrame({\"Radio flux\":[np.NaN,7.40E-02,4.86E+00,7.59E-02,3.10E-03,5.14E+00,6.57E-02,2.50E-03,4.00E-03,np.NaN,9.32E-02,2.81E-02,6.90E-03,5.70E+00,3.86E-01,2.20E+01,1.00E-04,4.00E-03,6.33E-02,2.77E-01,6.00E-04,1.03E-01,2.32E-02,3.07E-02,1.50E-02,3.76E-02,2.27E-02,3.60E-03,4.25E-02,1.52E-01,1.53E-02,1.71E-01,np.NaN,2.08E-01],\"Mass 25pc region\":[np.NaN,np.NaN,np.NaN,np.NaN,np.NaN,np.NaN,1.45E+07,np.NaN,np.NaN,np.NaN,np.NaN,1.39E+07,np.NaN,np.NaN,np.NaN,np.NaN,6.92E+04,4.13E+06,np.NaN,np.NaN,np.NaN,np.NaN,np.NaN,np.NaN,2.82E+06,np.NaN,np.NaN,2.04E+05,np.NaN,1.13E+07,np.NaN,np.NaN,np.NaN,np.NaN]})"
   ]
  },
  {
   "cell_type": "code",
   "execution_count": 21,
   "metadata": {},
   "outputs": [],
   "source": [
    "radio25pcnew=radio25pc.dropna()"
   ]
  },
  {
   "cell_type": "code",
   "execution_count": 22,
   "metadata": {},
   "outputs": [
    {
     "data": {
      "text/plain": [
       "SpearmanrResult(correlation=0.8571428571428573, pvalue=0.01369732661532562)"
      ]
     },
     "execution_count": 22,
     "metadata": {},
     "output_type": "execute_result"
    }
   ],
   "source": [
    "stats.spearmanr(radio25pcnew[\"Mass 25pc region\"],radio25pcnew[\"Radio flux\"])"
   ]
  },
  {
   "cell_type": "code",
   "execution_count": null,
   "metadata": {},
   "outputs": [],
   "source": []
  }
 ],
 "metadata": {
  "kernelspec": {
   "display_name": "Python 3",
   "language": "python",
   "name": "python3"
  },
  "language_info": {
   "codemirror_mode": {
    "name": "ipython",
    "version": 3
   },
   "file_extension": ".py",
   "mimetype": "text/x-python",
   "name": "python",
   "nbconvert_exporter": "python",
   "pygments_lexer": "ipython3",
   "version": "3.8.3"
  }
 },
 "nbformat": 4,
 "nbformat_minor": 4
}
