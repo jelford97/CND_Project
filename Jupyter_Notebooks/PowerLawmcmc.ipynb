{
 "cells": [
  {
   "cell_type": "code",
   "execution_count": 1,
   "metadata": {},
   "outputs": [],
   "source": [
    "import numpy as np\n",
    "import matplotlib.pyplot as plt\n",
    "from gastimator import gastimator\n",
    "import pandas as pd\n",
    "from gastimator import priors\n",
    "from gastimator import corner_plot\n",
    "import math"
   ]
  },
  {
   "cell_type": "code",
   "execution_count": 2,
   "metadata": {},
   "outputs": [],
   "source": [
    "SED=pd.read_csv('Documents/NuclearSED.csv')\n",
    "mcmcdet=pd.read_csv('Documents/MCMCfit.csv')\n",
    "SEDdust=pd.read_csv('Documents/DustSED.csv')\n",
    "mcmcdust=pd.read_csv('Documents/MCMCdust.csv')"
   ]
  },
  {
   "cell_type": "code",
   "execution_count": 3,
   "metadata": {},
   "outputs": [],
   "source": [
    "def power_law(values,x):\n",
    "    B=(values[1]*(x/1e10)**values[0])\n",
    "    return B"
   ]
  },
  {
   "cell_type": "code",
   "execution_count": 20,
   "metadata": {},
   "outputs": [],
   "source": [
    "i=30\n",
    "SEDfreq=mcmcdet['SED Freq']\n",
    "SEDflux=mcmcdet['SED Flux']\n",
    "SEDRMS=mcmcdet['SED RMS']\n",
    "xfreq=SED[SEDfreq[i]]\n",
    "datafl=SED[SEDflux[i]]\n",
    "rms=SED[SEDRMS[i]]\n",
    "distance=mcmcdet['Distance']\n",
    "indexmax=mcmcdet['Index Max']\n",
    "indexmin=mcmcdet['Index Min']\n",
    "indexguess=mcmcdet['Index Guess']\n",
    "interceptmax=mcmcdet['Intercept Max']\n",
    "interceptmin=mcmcdet['Intercept Min']\n",
    "interceptguess=mcmcdet['Intercept Guess']\n",
    "c=3e5\n",
    "H0=70\n",
    "z=(distance[i]/c)*H0\n",
    "xfreqe=(1+z)*xfreq"
   ]
  },
  {
   "cell_type": "code",
   "execution_count": 21,
   "metadata": {},
   "outputs": [],
   "source": [
    "mcmccom=gastimator(power_law,xfreqe)"
   ]
  },
  {
   "cell_type": "code",
   "execution_count": 22,
   "metadata": {},
   "outputs": [],
   "source": [
    "mcmccom.labels=np.array(['Index','Intercept'])\n",
    "mcmccom.guesses=np.array([indexguess[i],interceptguess[i]])\n",
    "mcmccom.min=np.array([indexmin[i],interceptmin[i]])\n",
    "mcmccom.max=np.array([indexmax[i],interceptmax[i]])\n",
    "mcmccom.fixed=np.array([False,False])\n",
    "mcmccom.precision=np.array([0.1,0.1])"
   ]
  },
  {
   "cell_type": "code",
   "execution_count": 23,
   "metadata": {},
   "outputs": [
    {
     "name": "stdout",
     "output_type": "stream",
     "text": [
      "Doing chain 1\n",
      "     Chain has not converged - Accept rate: 0.1\n",
      "     Chain has not converged - Accept rate: 0.23\n",
      "     Target rate not reached\n",
      "Chain converged: LL: -0.4809132628720135 - Accept rate:0.5\n",
      "Best chain so far!\n",
      "Best fit:\n",
      "  Index: -1.007521768492824\n",
      "  Intercept: 0.01455195739891144\n",
      "Starting final chain\n",
      "Final best fit values and 1sigma errors:\n",
      "  Index: -0.9125484757085531 + 0.07315740988852004 - 0.11374905517088241\n",
      "  Intercept: 0.0180549968292227 + 0.0034493878188649324 - 0.004249386195639521\n"
     ]
    }
   ],
   "source": [
    "nsamplescom=10000\n",
    "outputvaluecom,outputllcom=mcmccom.run(datafl,rms,nsamplescom,nchains=1,plot=False)"
   ]
  },
  {
   "cell_type": "code",
   "execution_count": null,
   "metadata": {},
   "outputs": [],
   "source": []
  }
 ],
 "metadata": {
  "kernelspec": {
   "display_name": "Python 3",
   "language": "python",
   "name": "python3"
  },
  "language_info": {
   "codemirror_mode": {
    "name": "ipython",
    "version": 3
   },
   "file_extension": ".py",
   "mimetype": "text/x-python",
   "name": "python",
   "nbconvert_exporter": "python",
   "pygments_lexer": "ipython3",
   "version": "3.8.3"
  }
 },
 "nbformat": 4,
 "nbformat_minor": 4
}
