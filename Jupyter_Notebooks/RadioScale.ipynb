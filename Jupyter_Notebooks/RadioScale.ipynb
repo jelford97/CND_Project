{
 "cells": [
  {
   "cell_type": "code",
   "execution_count": 14,
   "metadata": {},
   "outputs": [],
   "source": [
    "import numpy as np\n",
    "import pandas as pd\n",
    "import math"
   ]
  },
  {
   "cell_type": "code",
   "execution_count": 26,
   "metadata": {},
   "outputs": [],
   "source": [
    "data=pd.read_csv('Documents/RadioScale.csv')\n",
    "freq=data['Frequency']\n",
    "Lum=data['Luminosity (W)']\n",
    "dist=data['Distance']\n",
    "flux=data['Flux']"
   ]
  },
  {
   "cell_type": "code",
   "execution_count": 27,
   "metadata": {},
   "outputs": [],
   "source": [
    "def constant(frequency,Lum):\n",
    "    A=Lum/((frequency)**(-0.8))\n",
    "    return A"
   ]
  },
  {
   "cell_type": "code",
   "execution_count": 28,
   "metadata": {},
   "outputs": [],
   "source": [
    "A=constant(freq,Lum)"
   ]
  },
  {
   "cell_type": "code",
   "execution_count": 29,
   "metadata": {},
   "outputs": [
    {
     "name": "stdout",
     "output_type": "stream",
     "text": [
      "0    1.046587e+37\n",
      "1    3.677424e+37\n",
      "2    5.668210e+38\n",
      "dtype: float64\n"
     ]
    }
   ],
   "source": [
    "print(A)"
   ]
  },
  {
   "cell_type": "code",
   "execution_count": 30,
   "metadata": {},
   "outputs": [],
   "source": [
    "def newL(A,freq):\n",
    "    L=A*freq**(-0.8)\n",
    "    return L"
   ]
  },
  {
   "cell_type": "code",
   "execution_count": 31,
   "metadata": {},
   "outputs": [
    {
     "name": "stdout",
     "output_type": "stream",
     "text": [
      "0    5.045138e+29\n",
      "1    1.772725e+30\n",
      "2    2.732395e+31\n",
      "dtype: float64\n"
     ]
    }
   ],
   "source": [
    "NL=newL(A,1.4e9)\n",
    "print(NL)"
   ]
  },
  {
   "cell_type": "code",
   "execution_count": 32,
   "metadata": {},
   "outputs": [],
   "source": [
    "def newFLux(L,d,freq):\n",
    "    l=d*3.08567758128e22\n",
    "    flux=L/(4*math.pi*(l**2)*freq)\n",
    "    fl=flux/1e-26\n",
    "    return fl"
   ]
  },
  {
   "cell_type": "code",
   "execution_count": 33,
   "metadata": {},
   "outputs": [
    {
     "data": {
      "text/plain": [
       "0    0.011063\n",
       "1    0.009155\n",
       "2    0.092471\n",
       "dtype: float64"
      ]
     },
     "execution_count": 33,
     "metadata": {},
     "output_type": "execute_result"
    }
   ],
   "source": [
    "newFLux(NL,dist,1.4e9)"
   ]
  },
  {
   "cell_type": "code",
   "execution_count": 34,
   "metadata": {},
   "outputs": [],
   "source": [
    "def constantF(flux,frequency):\n",
    "    Af=flux/((frequency)**(-0.8))\n",
    "    return Af"
   ]
  },
  {
   "cell_type": "code",
   "execution_count": 35,
   "metadata": {},
   "outputs": [
    {
     "name": "stdout",
     "output_type": "stream",
     "text": [
      "0    1.268591e+05\n",
      "1    2.101385e+06\n",
      "2    2.364058e+06\n",
      "dtype: float64\n"
     ]
    }
   ],
   "source": [
    "Af=constantF(flux,freq)\n",
    "print(Af)"
   ]
  },
  {
   "cell_type": "code",
   "execution_count": 37,
   "metadata": {},
   "outputs": [],
   "source": [
    "def newfluxx(Af,freq):\n",
    "    nf=Af*(freq**(-0.8))\n",
    "    return nf"
   ]
  },
  {
   "cell_type": "code",
   "execution_count": 38,
   "metadata": {},
   "outputs": [
    {
     "data": {
      "text/plain": [
       "0    0.006115\n",
       "1    0.101299\n",
       "2    0.113961\n",
       "dtype: float64"
      ]
     },
     "execution_count": 38,
     "metadata": {},
     "output_type": "execute_result"
    }
   ],
   "source": [
    "newfluxx(Af,1.4e9)"
   ]
  },
  {
   "cell_type": "code",
   "execution_count": null,
   "metadata": {},
   "outputs": [],
   "source": []
  }
 ],
 "metadata": {
  "kernelspec": {
   "display_name": "Python 3 (ipykernel)",
   "language": "python",
   "name": "python3"
  },
  "language_info": {
   "codemirror_mode": {
    "name": "ipython",
    "version": 3
   },
   "file_extension": ".py",
   "mimetype": "text/x-python",
   "name": "python",
   "nbconvert_exporter": "python",
   "pygments_lexer": "ipython3",
   "version": "3.9.12"
  }
 },
 "nbformat": 4,
 "nbformat_minor": 4
}
