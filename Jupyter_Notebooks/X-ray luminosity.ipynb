{
 "cells": [
  {
   "cell_type": "code",
   "execution_count": 1,
   "metadata": {},
   "outputs": [],
   "source": [
    "import numpy as np\n",
    "import pandas as pd\n",
    "import math"
   ]
  },
  {
   "cell_type": "code",
   "execution_count": 3,
   "metadata": {},
   "outputs": [],
   "source": [
    "data=pd.read_csv('/home/jacob/Documents/NewL.csv')\n",
    "Ebig=data['Ebig']\n",
    "Esmall=data['Esmall']\n",
    "OldL=data['Original L']\n",
    "dist=data['Distance']"
   ]
  },
  {
   "cell_type": "code",
   "execution_count": 4,
   "metadata": {},
   "outputs": [],
   "source": [
    "def constant(oldL,Ebig,Esmall):\n",
    "    C=(-1/0.8)*Ebig**(-0.8)\n",
    "    D=(-1/0.8)*Esmall**(-0.8)\n",
    "    A=oldL/(C-D)\n",
    "    return A"
   ]
  },
  {
   "cell_type": "code",
   "execution_count": 5,
   "metadata": {},
   "outputs": [
    {
     "name": "stdout",
     "output_type": "stream",
     "text": [
      "0    2.445541e+33\n",
      "1    2.392878e+30\n",
      "2    2.859439e+34\n",
      "3    1.010473e+32\n",
      "4    8.919808e+32\n",
      "5    1.044089e+32\n",
      "6    7.537402e+34\n",
      "7    2.525788e+32\n",
      "8    1.777379e+31\n",
      "9    5.327611e+31\n",
      "dtype: float64\n"
     ]
    }
   ],
   "source": [
    "A=constant(OldL,Ebig,Esmall)\n",
    "print(A)"
   ]
  },
  {
   "cell_type": "code",
   "execution_count": 6,
   "metadata": {},
   "outputs": [],
   "source": [
    "def new_flux(Ebig,Esmall,A):\n",
    "    NL=((5/(2**(14/5)))-((10**(1/5))/8))*A\n",
    "    return NL"
   ]
  },
  {
   "cell_type": "code",
   "execution_count": 7,
   "metadata": {},
   "outputs": [
    {
     "name": "stdout",
     "output_type": "stream",
     "text": [
      "0    1.271253e+33\n",
      "1    1.243878e+30\n",
      "2    1.486407e+34\n",
      "3    5.252688e+31\n",
      "4    4.636737e+32\n",
      "5    5.427433e+31\n",
      "6    3.918129e+34\n",
      "7    1.312967e+32\n",
      "8    9.239255e+30\n",
      "9    2.769424e+31\n",
      "dtype: float64\n"
     ]
    },
    {
     "data": {
      "text/plain": [
       "0    3.320933e+06\n",
       "1    3.249419e+03\n",
       "2    3.882987e+07\n",
       "3    1.372175e+05\n",
       "4    1.211269e+06\n",
       "5    1.417825e+05\n",
       "6    1.023545e+08\n",
       "7    3.429904e+05\n",
       "8    2.413599e+04\n",
       "9    7.234651e+04\n",
       "dtype: float64"
      ]
     },
     "execution_count": 7,
     "metadata": {},
     "output_type": "execute_result"
    }
   ],
   "source": [
    "NL=new_flux(10,2,A)\n",
    "print(NL)\n",
    "NL/3.828e26"
   ]
  },
  {
   "cell_type": "code",
   "execution_count": 8,
   "metadata": {},
   "outputs": [],
   "source": [
    "def x_ray_flux(L,d,freq):\n",
    "    l=d*3.08567758128e22\n",
    "    flux=L/(4*math.pi*(l**2)*freq)\n",
    "    fl=flux/1e-26\n",
    "    return fl"
   ]
  },
  {
   "cell_type": "code",
   "execution_count": 9,
   "metadata": {},
   "outputs": [
    {
     "data": {
      "text/plain": [
       "0    1.651979e-09\n",
       "1    7.913446e-10\n",
       "2    2.520704e-08\n",
       "3    7.645334e-10\n",
       "4    7.642762e-09\n",
       "5    3.128351e-09\n",
       "6    2.639467e-08\n",
       "7    2.779759e-09\n",
       "8    9.831106e-10\n",
       "9    5.863307e-10\n",
       "dtype: float64"
      ]
     },
     "execution_count": 9,
     "metadata": {},
     "output_type": "execute_result"
    }
   ],
   "source": [
    "x_ray_flux(NL,dist,1.45e18)"
   ]
  },
  {
   "cell_type": "code",
   "execution_count": null,
   "metadata": {},
   "outputs": [],
   "source": []
  }
 ],
 "metadata": {
  "kernelspec": {
   "display_name": "Python 3",
   "language": "python",
   "name": "python3"
  },
  "language_info": {
   "codemirror_mode": {
    "name": "ipython",
    "version": 3
   },
   "file_extension": ".py",
   "mimetype": "text/x-python",
   "name": "python",
   "nbconvert_exporter": "python",
   "pygments_lexer": "ipython3",
   "version": "3.8.3"
  }
 },
 "nbformat": 4,
 "nbformat_minor": 4
}
