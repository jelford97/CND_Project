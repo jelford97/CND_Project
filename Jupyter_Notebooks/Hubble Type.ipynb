{
 "cells": [
  {
   "cell_type": "code",
   "execution_count": 1,
   "metadata": {},
   "outputs": [],
   "source": [
    "import pandas as pd\n",
    "import matplotlib.pyplot as plt\n",
    "import numpy as np\n",
    "import matplotlib as mpl"
   ]
  },
  {
   "cell_type": "code",
   "execution_count": 2,
   "metadata": {},
   "outputs": [],
   "source": [
    "plt.rcParams['font.family'] = 'Latin Modern Roman'\n",
    "plt.rcParams.update({'font.size': 10})\n",
    "plt.rcParams['legend.fontsize'] = 14\n",
    "plt.rcParams['axes.linewidth'] = 1.5\n",
    "plt.rcParams['xtick.labelsize'] = 12;\n",
    "plt.rcParams['ytick.labelsize'] = 12\n",
    "plt.rcParams['xtick.major.size'] = 10;\n",
    "plt.rcParams['ytick.major.size'] = 10\n",
    "plt.rcParams['xtick.major.width'] = 2;\n",
    "plt.rcParams['ytick.major.width'] = 2\n",
    "plt.rcParams['xtick.minor.size'] = 5;\n",
    "plt.rcParams['ytick.minor.size'] = 5\n",
    "plt.rcParams['xtick.minor.width'] = 1;\n",
    "plt.rcParams['ytick.minor.width'] = 1\n",
    "plt.rcParams['xtick.direction'] = 'in';\n",
    "plt.rcParams['ytick.direction'] = 'in'\n",
    "plt.rcParams['xtick.bottom'] = True\n",
    "plt.rcParams['ytick.left'] = True\n",
    "params = {'mathtext.default': 'regular'}\n",
    "plt.rcParams.update(params)\n",
    "plt.rcParams['axes.labelsize'] = 16\n",
    "plt.rcParams['ytick.right']=True\n",
    "plt.rcParams['xtick.top']=True"
   ]
  },
  {
   "cell_type": "code",
   "execution_count": 3,
   "metadata": {},
   "outputs": [],
   "source": [
    "data=pd.read_csv('Documents/Python.csv')\n",
    "data1=pd.read_csv('Documents/Table 1.csv')"
   ]
  },
  {
   "cell_type": "code",
   "execution_count": 4,
   "metadata": {},
   "outputs": [],
   "source": [
    "SI=data['Spectral Index']\n",
    "Morph=data['Hubble Type']\n",
    "GalaxyType=data1['Galaxy Type']"
   ]
  },
  {
   "cell_type": "code",
   "execution_count": 70,
   "metadata": {},
   "outputs": [
    {
     "data": {
      "text/plain": [
       "Text(1, 2.5, 'Late-type Galaxies')"
      ]
     },
     "execution_count": 70,
     "metadata": {},
     "output_type": "execute_result"
    },
    {
     "name": "stderr",
     "output_type": "stream",
     "text": [
      "findfont: Font family ['Latin Modern Roman'] not found. Falling back to DejaVu Sans.\n",
      "findfont: Font family ['Latin Modern Roman'] not found. Falling back to DejaVu Sans.\n",
      "findfont: Font family ['Latin Modern Roman'] not found. Falling back to DejaVu Sans.\n"
     ]
    },
    {
     "data": {
      "image/png": "[encoded data removed]",
      "text/plain": [
       "<Figure size 432x288 with 1 Axes>"
      ]
     },
     "metadata": {
      "needs_background": "light"
     },
     "output_type": "display_data"
    }
   ],
   "source": [
    "plt.scatter(Morph,SI)\n",
    "plt.xlim(-5.2,5)\n",
    "plt.xlabel('Hubble Type')\n",
    "plt.ylabel('Spectral Index')\n",
    "plt.axvline(0,color='black')\n",
    "plt.axvspan(-5.2,0,color='red',alpha=0.4,zorder=0)\n",
    "plt.axvspan(0,5,color='yellow',alpha=0.4,zorder=0)\n",
    "plt.text(-4,2.5,'Early-type Galaxies')\n",
    "plt.text(1,2.5,'Late-type Galaxies')"
   ]
  },
  {
   "cell_type": "code",
   "execution_count": 5,
   "metadata": {},
   "outputs": [],
   "source": [
    "WISDOM=pd.read_csv('/home/jacob/Documents/WISDOM_basic_params(1).csv')"
   ]
  },
  {
   "cell_type": "code",
   "execution_count": 6,
   "metadata": {},
   "outputs": [],
   "source": [
    "SI=WISDOM['Spectral Index']\n",
    "logMstar=WISDOM['LogMstar']\n",
    "galaxy=data1['Galaxy']\n"
   ]
  },
  {
   "cell_type": "code",
   "execution_count": 7,
   "metadata": {},
   "outputs": [
    {
     "name": "stdout",
     "output_type": "stream",
     "text": [
      "0        NaN\n",
      "1     10.300\n",
      "2     11.260\n",
      "3     11.820\n",
      "4      9.100\n",
      "5     10.070\n",
      "6     11.401\n",
      "7     11.410\n",
      "8     11.750\n",
      "9     10.640\n",
      "10    10.670\n",
      "11    10.790\n",
      "12       NaN\n",
      "13    10.840\n",
      "14    10.280\n",
      "15    10.670\n",
      "16    11.342\n",
      "17    11.680\n",
      "18    11.640\n",
      "19       NaN\n",
      "20    11.167\n",
      "21    10.688\n",
      "22    10.750\n",
      "23    11.000\n",
      "24    11.068\n",
      "25    10.200\n",
      "26    10.930\n",
      "27    11.209\n",
      "28    10.570\n",
      "29       NaN\n",
      "30    10.780\n",
      "31    10.760\n",
      "32    11.750\n",
      "33    10.760\n",
      "34    11.120\n",
      "Name: LogMstar, dtype: float64\n"
     ]
    }
   ],
   "source": [
    "print(logMstar)"
   ]
  },
  {
   "cell_type": "code",
   "execution_count": 7,
   "metadata": {},
   "outputs": [],
   "source": [
    "fulldata={'Galaxy':galaxy,'Galaxy Type':GalaxyType,'Spectral Index':SI,'Stellar Mass':logMstar}\n",
    "fdf=pd.DataFrame(fulldata)\n",
    "ETG=fdf[fdf['Galaxy Type']=='ETG']\n",
    "Spiral=fdf[fdf['Galaxy Type']=='Spiral']\n",
    "Dwarf=fdf[fdf['Galaxy Type']=='Dwarf']"
   ]
  },
  {
   "cell_type": "code",
   "execution_count": 8,
   "metadata": {},
   "outputs": [
    {
     "data": {
      "text/plain": [
       "Text(9.6, -3.5, 'Synchrotron Dominated')"
      ]
     },
     "execution_count": 8,
     "metadata": {},
     "output_type": "execute_result"
    },
    {
     "name": "stderr",
     "output_type": "stream",
     "text": [
      "findfont: Font family ['Latin Modern Roman'] not found. Falling back to DejaVu Sans.\n",
      "findfont: Font family ['Latin Modern Roman'] not found. Falling back to DejaVu Sans.\n",
      "findfont: Font family ['Latin Modern Roman'] not found. Falling back to DejaVu Sans.\n",
      "findfont: Font family ['Latin Modern Roman'] not found. Falling back to DejaVu Sans.\n"
     ]
    },
    {
     "data": {
      "image/png": "[encoded data removed]",
      "text/plain": [
       "<Figure size 432x288 with 1 Axes>"
      ]
     },
     "metadata": {
      "needs_background": "light"
     },
     "output_type": "display_data"
    }
   ],
   "source": [
    "gradient = np.linspace(1, 0, 100).reshape(-1, 1)\n",
    "plt.imshow(gradient , extent=[9.5,12, -4, 4], aspect='auto', cmap='brg',alpha=0.5,zorder=0)\n",
    "plt.scatter(ETG['Stellar Mass'],ETG['Spectral Index'],color='yellow',label='ETG',zorder=2)\n",
    "plt.scatter(Spiral['Stellar Mass'],Spiral['Spectral Index'],color='black',label='Spirals',zorder=2)\n",
    "plt.xlabel('log($M_{*}$)')\n",
    "plt.ylabel('Spectral Index')\n",
    "plt.legend(frameon=False)\n",
    "plt.axhline(0,color='black',linestyle='--',zorder=1)\n",
    "plt.ylim(-4,4)\n",
    "plt.xlim(9.5,12)\n",
    "plt.text(9.6,3.1,'Thermal Dominated')\n",
    "plt.text(9.6,-3.5,'Synchrotron Dominated')"
   ]
  },
  {
   "cell_type": "code",
   "execution_count": null,
   "metadata": {},
   "outputs": [],
   "source": []
  }
 ],
 "metadata": {
  "kernelspec": {
   "display_name": "Python 3",
   "language": "python",
   "name": "python3"
  },
  "language_info": {
   "codemirror_mode": {
    "name": "ipython",
    "version": 3
   },
   "file_extension": ".py",
   "mimetype": "text/x-python",
   "name": "python",
   "nbconvert_exporter": "python",
   "pygments_lexer": "ipython3",
   "version": "3.8.3"
  }
 },
 "nbformat": 4,
 "nbformat_minor": 4
}
