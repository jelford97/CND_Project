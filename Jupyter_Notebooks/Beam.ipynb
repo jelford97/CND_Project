{
 "cells": [
  {
   "cell_type": "code",
   "execution_count": 1,
   "metadata": {},
   "outputs": [],
   "source": [
    "from astropy.io import fits\n",
    "import pandas as pd\n",
    "import numpy as np\n",
    "import math"
   ]
  },
  {
   "cell_type": "code",
   "execution_count": 2,
   "metadata": {},
   "outputs": [],
   "source": [
    "param=pd.read_csv('Parameters.csv')\n",
    "filepath=param['File Path']\n",
    "havecube=param['Cube']\n",
    "beamtable=param['Beam Table']\n",
    "dist=np.array(param['Distance'])"
   ]
  },
  {
   "cell_type": "code",
   "execution_count": 3,
   "metadata": {},
   "outputs": [],
   "source": [
    "def get_info(hdu,beamtable):\n",
    "    hdr=hdu[0].header\n",
    "    if beamtable=='Yes':\n",
    "        beamtab=hdu[1].data\n",
    "        bmaj=np.median(beamtab['BMAJ'])\n",
    "        bmin=np.median(beamtab['BMIN'])\n",
    "    else:\n",
    "        bmaj=hdr['BMAJ']*3600\n",
    "        bmin=hdr['BMIN']*3600\n",
    "    xcellsize=hdr['CDELT1']*3600\n",
    "    return bmaj,bmin,xcellsize"
   ]
  },
  {
   "cell_type": "code",
   "execution_count": 4,
   "metadata": {},
   "outputs": [
    {
     "name": "stdout",
     "output_type": "stream",
     "text": [
      "[       nan 0.1859925  0.13723031 0.13300344        nan 0.65877289\n",
      " 0.32497381 0.19363159 0.08707925 0.26364953 0.41805249 0.16590982\n",
      "        nan 0.59643484        nan 0.20495622 0.54939954        nan\n",
      " 0.13614278        nan 0.19248787 0.23865339 0.56473138 0.62906641\n",
      " 0.55268641        nan 0.06000568 0.32331598 0.29890394        nan\n",
      " 0.14069507 0.12804915 0.11346257 0.13541877 0.62807512]\n"
     ]
    }
   ],
   "source": [
    "beam=[]\n",
    "for i in range(len(havecube)):\n",
    "    if havecube[i]=='No':\n",
    "        beamsize=np.NaN\n",
    "        beam.append(beamsize)\n",
    "    else:\n",
    "        hdu=fits.open(filepath[i])\n",
    "        info=get_info(hdu,beamtable[i])\n",
    "        bmaj=info[0]\n",
    "        bmin=info[1]\n",
    "        beamsize=np.sqrt(bmaj*bmin)\n",
    "        beam.append(beamsize)\n",
    "print(np.array(beam))"
   ]
  },
  {
   "cell_type": "code",
   "execution_count": 5,
   "metadata": {},
   "outputs": [
    {
     "data": {
      "text/plain": [
       "array([0.06000568, 0.08707925, 0.11346257, 0.12804915, 0.13300344,\n",
       "       0.13541877, 0.13614278, 0.13723031, 0.14069507, 0.16590982,\n",
       "       0.1859925 , 0.19248787, 0.19363159, 0.20495622, 0.23865339,\n",
       "       0.26364953, 0.29890394, 0.32331598, 0.32497381, 0.41805249,\n",
       "       0.54939954, 0.55268641, 0.56473138, 0.59643484, 0.62807512,\n",
       "       0.62906641, 0.65877289,        nan,        nan,        nan,\n",
       "              nan,        nan,        nan,        nan,        nan])"
      ]
     },
     "execution_count": 5,
     "metadata": {},
     "output_type": "execute_result"
    }
   ],
   "source": [
    "np.sort(beam)"
   ]
  },
  {
   "cell_type": "code",
   "execution_count": 6,
   "metadata": {},
   "outputs": [],
   "source": [
    "beampc=4.84*np.array(beam)*dist"
   ]
  },
  {
   "cell_type": "code",
   "execution_count": 7,
   "metadata": {},
   "outputs": [
    {
     "name": "stdout",
     "output_type": "stream",
     "text": [
      "[         nan  77.14745863  93.38577274  42.87286181          nan\n",
      " 211.23552583  36.6479466  122.20786682  24.57132594  67.88658913\n",
      "  40.26514359  15.49796848          nan  53.98212406          nan\n",
      "  17.85578591  59.03188132          nan  62.00541021          nan\n",
      "  15.37208128  19.05885985  45.09944795  42.62554007  30.49502521\n",
      "          nan   9.87453484 178.39282779  30.95927471          nan\n",
      "  28.60049287  18.96459082  28.30913747  22.21897055 291.22084636]\n"
     ]
    }
   ],
   "source": [
    "print(beampc)"
   ]
  },
  {
   "cell_type": "code",
   "execution_count": 8,
   "metadata": {},
   "outputs": [
    {
     "name": "stdout",
     "output_type": "stream",
     "text": [
      "[  9.87453484  15.37208128  15.49796848  17.85578591  18.96459082\n",
      "  19.05885985  22.21897055  24.57132594  28.30913747  28.60049287\n",
      "  30.49502521  30.95927471  36.6479466   40.26514359  42.62554007\n",
      "  42.87286181  45.09944795  53.98212406  59.03188132  62.00541021\n",
      "  67.88658913  77.14745863  93.38577274 122.20786682 178.39282779\n",
      " 211.23552583 291.22084636          nan          nan          nan\n",
      "          nan          nan          nan          nan          nan]\n"
     ]
    }
   ],
   "source": [
    "print(np.sort(beampc))"
   ]
  },
  {
   "cell_type": "code",
   "execution_count": 9,
   "metadata": {},
   "outputs": [],
   "source": [
    "cont=pd.read_csv('Continuum.csv')\n",
    "havecont=cont['Have Cont']\n",
    "filepathcont=cont['Filepath']"
   ]
  },
  {
   "cell_type": "code",
   "execution_count": 10,
   "metadata": {},
   "outputs": [
    {
     "name": "stdout",
     "output_type": "stream",
     "text": [
      "[0.27085989 0.15064362 0.13343811 0.12432787 0.13517638 0.12349974\n",
      " 0.31185805 0.15597083 0.0877449  0.22120941 0.32295136 0.12057075\n",
      " 0.53017968 0.58009118 0.24147788 0.77995138 0.51462975 0.57116786\n",
      " 0.58575498 0.21624835 0.15998122 0.37243814 0.52362125 0.57652654\n",
      " 0.5129094  0.15720713 0.04268454 0.31001048 0.17243262 0.17999741\n",
      " 0.09121075 0.17099172 0.12608825 5.20284304 0.58338851]\n"
     ]
    }
   ],
   "source": [
    "beamcont=[]\n",
    "for i in range(len(havecont)):\n",
    "    if havecont[i]=='No':\n",
    "        beamsizec=np.NaN\n",
    "        beam.append(beamsizec)\n",
    "    else:\n",
    "        hducont=fits.open(filepathcont[i])\n",
    "        infoc=get_info(hducont,'No')\n",
    "        bmajc=infoc[0]\n",
    "        bminc=infoc[1]\n",
    "        xcellsizec=infoc[2]\n",
    "        beamsizec=np.sqrt(bmajc*bminc)\n",
    "        beamcont.append(beamsizec)\n",
    "print(np.array(beamcont))"
   ]
  },
  {
   "cell_type": "code",
   "execution_count": 11,
   "metadata": {},
   "outputs": [
    {
     "data": {
      "text/plain": [
       "array([0.04268454, 0.0877449 , 0.09121075, 0.12057075, 0.12349974,\n",
       "       0.12432787, 0.12608825, 0.13343811, 0.13517638, 0.15064362,\n",
       "       0.15597083, 0.15720713, 0.15998122, 0.17099172, 0.17243262,\n",
       "       0.17999741, 0.21624835, 0.22120941, 0.24147788, 0.27085989,\n",
       "       0.31001048, 0.31185805, 0.32295136, 0.37243814, 0.5129094 ,\n",
       "       0.51462975, 0.52362125, 0.53017968, 0.57116786, 0.57652654,\n",
       "       0.58009118, 0.58338851, 0.58575498, 0.77995138, 5.20284304])"
      ]
     },
     "execution_count": 11,
     "metadata": {},
     "output_type": "execute_result"
    }
   ],
   "source": [
    "np.sort(beamcont)"
   ]
  },
  {
   "cell_type": "code",
   "execution_count": 25,
   "metadata": {},
   "outputs": [],
   "source": [
    "ALMA=pd.read_csv('ALMAinfo.csv')\n",
    "python=pd.read_csv('Python.csv')"
   ]
  },
  {
   "cell_type": "code",
   "execution_count": 36,
   "metadata": {},
   "outputs": [],
   "source": [
    "beam=ALMA['USB Beam size (arcsec)']\n",
    "Dist=python['Distance (Mpc)']"
   ]
  },
  {
   "cell_type": "code",
   "execution_count": 37,
   "metadata": {},
   "outputs": [],
   "source": [
    "beampc=4.84*beam*Dist"
   ]
  },
  {
   "cell_type": "code",
   "execution_count": 38,
   "metadata": {},
   "outputs": [
    {
     "name": "stdout",
     "output_type": "stream",
     "text": [
      "[  5.699584    6.91152     8.8575872  12.29844    12.713712   19.336284\n",
      "  26.954928   28.13976    28.98918    34.621004   37.528876   39.1193\n",
      "  40.9765048  46.00904    47.19726    48.3516     51.465172   51.770576\n",
      "  54.908832   56.389872   63.501768   89.749572   94.311756  103.899312\n",
      " 130.65822   145.684     171.361652  173.25264   203.399064  306.950864\n",
      "         nan         nan         nan         nan         nan]\n"
     ]
    }
   ],
   "source": [
    "print(np.sort(beampc))"
   ]
  },
  {
   "cell_type": "code",
   "execution_count": null,
   "metadata": {},
   "outputs": [],
   "source": []
  }
 ],
 "metadata": {
  "kernelspec": {
   "display_name": "Python 3",
   "language": "python",
   "name": "python3"
  },
  "language_info": {
   "codemirror_mode": {
    "name": "ipython",
    "version": 3
   },
   "file_extension": ".py",
   "mimetype": "text/x-python",
   "name": "python",
   "nbconvert_exporter": "python",
   "pygments_lexer": "ipython3",
   "version": "3.8.3"
  }
 },
 "nbformat": 4,
 "nbformat_minor": 4
}
