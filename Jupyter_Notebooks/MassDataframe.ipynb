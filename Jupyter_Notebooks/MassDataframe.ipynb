{
 "cells": [
  {
   "cell_type": "code",
   "execution_count": 1,
   "metadata": {},
   "outputs": [],
   "source": [
    "import pandas as pd\n",
    "import numpy as np"
   ]
  },
  {
   "cell_type": "code",
   "execution_count": 2,
   "metadata": {},
   "outputs": [],
   "source": [
    "data=pd.read_csv('Documents/Python.csv')"
   ]
  },
  {
   "cell_type": "code",
   "execution_count": 3,
   "metadata": {},
   "outputs": [],
   "source": [
    "galaxy=data['Galaxy']\n",
    "mass100=data['Mass 100pc']\n",
    "mass75=data['Mass 75pc']\n",
    "mass50=data['Mass 50pc']\n",
    "mass100err=data['Mass 100pc Error']\n",
    "mass75err=data['Mass 75pc Error']\n",
    "mass50err=data['Mass 50pc Error']"
   ]
  },
  {
   "cell_type": "code",
   "execution_count": 4,
   "metadata": {},
   "outputs": [],
   "source": [
    "logmass100=np.around(np.log10(mass100),2)\n",
    "logmass75=np.around(np.log10(mass75),2)\n",
    "logmass50=np.around(np.log10(mass50),2)"
   ]
  },
  {
   "cell_type": "code",
   "execution_count": 5,
   "metadata": {},
   "outputs": [],
   "source": [
    "logmass100err=np.around(np.log10(mass100+mass100err)-logmass100,2)\n",
    "logmass75err=np.around(np.log10(mass75+mass75err)-logmass75,2)\n",
    "logmass50err=np.around(np.log10(mass50+mass50err)-logmass50,2)"
   ]
  },
  {
   "cell_type": "code",
   "execution_count": 6,
   "metadata": {},
   "outputs": [],
   "source": [
    "massdata={'Galaxy':galaxy,'log Mass 100pc':logmass100,'log Mass 100pc error':logmass100err,'log Mass 75pc':logmass75,'log Mass 75pc error':logmass75err,'log Mass 50pc':logmass50,'log Mass 50pc error':logmass50err}"
   ]
  },
  {
   "cell_type": "code",
   "execution_count": 7,
   "metadata": {},
   "outputs": [],
   "source": [
    "df=pd.DataFrame(massdata)"
   ]
  },
  {
   "cell_type": "code",
   "execution_count": 8,
   "metadata": {},
   "outputs": [],
   "source": [
    "df.to_csv('logmassdata.csv')"
   ]
  },
  {
   "cell_type": "code",
   "execution_count": 9,
   "metadata": {},
   "outputs": [],
   "source": [
    "Tab=pd.read_csv('Documents/Table 2.csv')"
   ]
  },
  {
   "cell_type": "code",
   "execution_count": 10,
   "metadata": {},
   "outputs": [],
   "source": [
    "mmrms=data['RMS']"
   ]
  },
  {
   "cell_type": "code",
   "execution_count": 11,
   "metadata": {},
   "outputs": [],
   "source": [
    "mmrmsmjy=mmrms/1e-3"
   ]
  },
  {
   "cell_type": "code",
   "execution_count": 12,
   "metadata": {},
   "outputs": [],
   "source": [
    "Tab['mm RMS']=mmrmsmjy"
   ]
  },
  {
   "cell_type": "code",
   "execution_count": null,
   "metadata": {},
   "outputs": [],
   "source": []
  }
 ],
 "metadata": {
  "kernelspec": {
   "display_name": "Python 3",
   "language": "python",
   "name": "python3"
  },
  "language_info": {
   "codemirror_mode": {
    "name": "ipython",
    "version": 3
   },
   "file_extension": ".py",
   "mimetype": "text/x-python",
   "name": "python",
   "nbconvert_exporter": "python",
   "pygments_lexer": "ipython3",
   "version": "3.8.3"
  }
 },
 "nbformat": 4,
 "nbformat_minor": 4
}
