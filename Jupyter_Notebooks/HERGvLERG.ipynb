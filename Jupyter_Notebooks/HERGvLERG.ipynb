{
 "cells": [
  {
   "cell_type": "code",
   "execution_count": 5,
   "metadata": {},
   "outputs": [],
   "source": [
    "import pandas as pd\n",
    "import numpy as np\n",
    "import math"
   ]
  },
  {
   "cell_type": "code",
   "execution_count": 6,
   "metadata": {},
   "outputs": [],
   "source": [
    "data=pd.read_csv('Documents/Python.csv')"
   ]
  },
  {
   "cell_type": "code",
   "execution_count": 7,
   "metadata": {},
   "outputs": [],
   "source": [
    "radio=data['Radio Flux (Jy)']\n",
    "LOIII=data['Log OIII Lum (erg/s)']\n",
    "dist=data['Distance (Mpc)']\n",
    "distm=dist*3.0846e22"
   ]
  },
  {
   "cell_type": "code",
   "execution_count": 8,
   "metadata": {},
   "outputs": [],
   "source": [
    "radiolum=4*math.pi*((distm)**2)*radio*1e-26\n",
    "OIII=10**(LOIII)\n",
    "OIIIsol=OIII/3.846e33"
   ]
  },
  {
   "cell_type": "code",
   "execution_count": 9,
   "metadata": {},
   "outputs": [
    {
     "name": "stdout",
     "output_type": "stream",
     "text": [
      "0              NaN\n",
      "1     6.498318e+22\n",
      "2     5.365424e+22\n",
      "3     2.577462e+24\n",
      "4     3.899807e+18\n",
      "5     3.983099e+22\n",
      "6     2.012246e+20\n",
      "7     1.045023e+25\n",
      "8     2.669993e+22\n",
      "9     8.460009e+20\n",
      "10    1.893973e+20\n",
      "11             NaN\n",
      "12    4.545994e+22\n",
      "13    3.896787e+21\n",
      "14    5.081554e+20\n",
      "15    1.088576e+21\n",
      "16    4.065955e+20\n",
      "17    5.831307e+24\n",
      "18    4.086713e+23\n",
      "19    2.684835e+24\n",
      "20    3.255183e+18\n",
      "21    1.953110e+20\n",
      "22    2.060531e+21\n",
      "23    6.491475e+21\n",
      "24    9.323276e+18\n",
      "25    6.671146e+20\n",
      "26    1.382183e+22\n",
      "27    3.605000e+22\n",
      "28    8.377734e+20\n",
      "29    4.241924e+22\n",
      "30    2.320058e+22\n",
      "31    1.679352e+21\n",
      "32    6.608886e+22\n",
      "33    5.166481e+21\n",
      "34             NaN\n",
      "dtype: float64\n"
     ]
    }
   ],
   "source": [
    "print(radiolum)"
   ]
  },
  {
   "cell_type": "code",
   "execution_count": 10,
   "metadata": {},
   "outputs": [
    {
     "name": "stdout",
     "output_type": "stream",
     "text": [
      "0     7.673451e+07\n",
      "1     6.382498e+08\n",
      "2              NaN\n",
      "3     7.498782e+05\n",
      "4     1.273476e+04\n",
      "5     8.222251e+07\n",
      "6     9.225517e+03\n",
      "7     1.798832e+09\n",
      "8     1.059231e+05\n",
      "9     2.065336e+06\n",
      "10             NaN\n",
      "11             NaN\n",
      "12    9.440407e+06\n",
      "13    7.498782e+05\n",
      "14    6.838970e+03\n",
      "15    1.840733e+05\n",
      "16    7.852189e+05\n",
      "17    4.120887e+05\n",
      "18             NaN\n",
      "19    1.035120e+06\n",
      "20    1.273476e+05\n",
      "21    2.722643e+05\n",
      "22    1.273476e+06\n",
      "23    5.308731e+05\n",
      "24             NaN\n",
      "25    2.786062e+05\n",
      "26             NaN\n",
      "27             NaN\n",
      "28             NaN\n",
      "29             NaN\n",
      "30             NaN\n",
      "31             NaN\n",
      "32             NaN\n",
      "33             NaN\n",
      "34             NaN\n",
      "Name: Log OIII Lum (erg/s), dtype: float64\n"
     ]
    }
   ],
   "source": [
    "print(OIIIsol)"
   ]
  },
  {
   "cell_type": "code",
   "execution_count": 11,
   "metadata": {},
   "outputs": [
    {
     "name": "stdout",
     "output_type": "stream",
     "text": [
      "0       Frl1146\n",
      "1         FRL49\n",
      "2        MRK567\n",
      "3       NGC0383\n",
      "4       NGC0404\n",
      "5       NGC0449\n",
      "6       NGC0524\n",
      "7       NGC0612\n",
      "8       NGC0708\n",
      "9       NGC1194\n",
      "10      NGC1387\n",
      "11      NGC1574\n",
      "12      NGC2110\n",
      "13      NGC3169\n",
      "14      NGC3351\n",
      "15      NGC3368\n",
      "16      NGC3607\n",
      "17      NGC3862\n",
      "18      NGC4061\n",
      "19      NGC4261\n",
      "20      NGC4429\n",
      "21      NGC4435\n",
      "22      NGC4438\n",
      "23      NGC4501\n",
      "24      NGC4697\n",
      "25      NGC4826\n",
      "26      NGC5064\n",
      "27     NGC5765b\n",
      "28      NGC5806\n",
      "29      NGC5995\n",
      "30      NGC6753\n",
      "31      NGC6958\n",
      "32      NGC7052\n",
      "33      NGC7172\n",
      "34    PGC043387\n",
      "Name: Galaxy, dtype: object\n"
     ]
    }
   ],
   "source": [
    "print(data['Galaxy'])"
   ]
  },
  {
   "cell_type": "code",
   "execution_count": null,
   "metadata": {},
   "outputs": [],
   "source": []
  }
 ],
 "metadata": {
  "kernelspec": {
   "display_name": "Python 3",
   "language": "python",
   "name": "python3"
  },
  "language_info": {
   "codemirror_mode": {
    "name": "ipython",
    "version": 3
   },
   "file_extension": ".py",
   "mimetype": "text/x-python",
   "name": "python",
   "nbconvert_exporter": "python",
   "pygments_lexer": "ipython3",
   "version": "3.8.3"
  }
 },
 "nbformat": 4,
 "nbformat_minor": 4
}
