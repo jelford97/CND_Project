{
 "cells": [
  {
   "cell_type": "code",
   "execution_count": 1,
   "metadata": {},
   "outputs": [],
   "source": [
    "import pandas as pd\n",
    "import numpy as np\n",
    "import matplotlib.pyplot as plt"
   ]
  },
  {
   "cell_type": "code",
   "execution_count": 2,
   "metadata": {},
   "outputs": [],
   "source": [
    "data=pd.read_csv('Documents/Python.csv')"
   ]
  },
  {
   "cell_type": "code",
   "execution_count": 3,
   "metadata": {},
   "outputs": [],
   "source": [
    "synch=data[data['Dominant']=='Synch']\n",
    "thermal=data[data['Dominant']=='Thermal']\n",
    "other=data[data['Dominant']=='Unknown']"
   ]
  },
  {
   "cell_type": "code",
   "execution_count": 4,
   "metadata": {},
   "outputs": [],
   "source": [
    "synchgas=synch['Mass beam width']\n",
    "synchdust=synch['LL Dust Mass']\n",
    "thermalgas=thermal['Mass beam width']\n",
    "thermaldust=thermal['LL Dust Mass']\n",
    "othergas=other['Mass beam width']\n",
    "otherdust=other['LL Dust Mass']"
   ]
  },
  {
   "cell_type": "code",
   "execution_count": 5,
   "metadata": {},
   "outputs": [],
   "source": [
    "synchgtod=synchgas/synchdust\n",
    "thermalgtod=thermalgas/thermaldust\n",
    "othergtod=othergas/otherdust"
   ]
  },
  {
   "cell_type": "code",
   "execution_count": 6,
   "metadata": {},
   "outputs": [
    {
     "name": "stderr",
     "output_type": "stream",
     "text": [
      "/home/jacob/anaconda3/lib/python3.8/site-packages/numpy/lib/histograms.py:839: RuntimeWarning: invalid value encountered in greater_equal\n",
      "  keep = (tmp_a >= first_edge)\n",
      "/home/jacob/anaconda3/lib/python3.8/site-packages/numpy/lib/histograms.py:840: RuntimeWarning: invalid value encountered in less_equal\n",
      "  keep &= (tmp_a <= last_edge)\n"
     ]
    },
    {
     "data": {
      "text/plain": [
       "<matplotlib.legend.Legend at 0x7f5e2a512af0>"
      ]
     },
     "execution_count": 6,
     "metadata": {},
     "output_type": "execute_result"
    },
    {
     "data": {
      "image/png": "[encoded data removed]",
      "text/plain": [
       "<Figure size 432x288 with 1 Axes>"
      ]
     },
     "metadata": {
      "needs_background": "light"
     },
     "output_type": "display_data"
    }
   ],
   "source": [
    "plt.hist(np.log10(synchgtod),color='yellow',label='Synchrotron Emission')\n",
    "plt.hist(np.log10(thermalgtod),color='green',label='Thermal Emission')\n",
    "#plt.hist(np.log10(othergtod),color='black',label='Unknown')\n",
    "plt.xlabel('Log Gas to dust ratio')\n",
    "plt.ylabel('Count')\n",
    "plt.legend(bbox_to_anchor=(1, 0), loc='lower left', ncol=1)"
   ]
  },
  {
   "cell_type": "code",
   "execution_count": 7,
   "metadata": {},
   "outputs": [
    {
     "name": "stdout",
     "output_type": "stream",
     "text": [
      "0              NaN\n",
      "1     1.920833e+01\n",
      "6     1.925532e+01\n",
      "7     4.821429e-02\n",
      "8     1.047826e-01\n",
      "10    1.408333e+01\n",
      "12             NaN\n",
      "13    5.658537e+00\n",
      "14             NaN\n",
      "16    5.920000e+05\n",
      "17             NaN\n",
      "18    4.185714e+00\n",
      "19             NaN\n",
      "20    6.750000e-02\n",
      "22    1.153846e+06\n",
      "24    1.127778e+00\n",
      "25             NaN\n",
      "29             NaN\n",
      "30             NaN\n",
      "32    2.009091e-01\n",
      "33    6.650246e+06\n",
      "dtype: float64\n"
     ]
    }
   ],
   "source": [
    "print(synchgtod)"
   ]
  },
  {
   "cell_type": "code",
   "execution_count": 12,
   "metadata": {},
   "outputs": [],
   "source": [
    "dustmassmax=data['Nuclear Dust Mass Max']\n",
    "dustmassmin=data['Nuclear Dust Mass Min']\n",
    "gtodmax=data['Mass beam width']/dustmassmin\n",
    "gtodmin=data['Mass beam width']/dustmassmax\n",
    "data['GtoD Max']=gtodmax\n",
    "data['GtoD Min']=gtodmin"
   ]
  },
  {
   "cell_type": "code",
   "execution_count": 13,
   "metadata": {},
   "outputs": [
    {
     "name": "stdout",
     "output_type": "stream",
     "text": [
      "       Galaxy      GtoD Max      GtoD Min\n",
      "0     Frl1146           NaN           NaN\n",
      "1       FRL49  3.658730e+01     13.927492\n",
      "2      MRK567           NaN           NaN\n",
      "3     NGC0383  5.245098e-01      0.479821\n",
      "4     NGC0404           NaN           NaN\n",
      "5     NGC0449  1.070000e+06    583.636364\n",
      "6     NGC0524  2.279597e+03     15.083333\n",
      "7     NGC0612  4.838710e-02      0.047872\n",
      "8     NGC0708  1.095455e-01      0.109545\n",
      "9     NGC1194  1.441071e+05    137.011885\n",
      "10    NGC1387  1.290076e+03     11.418919\n",
      "11    NGC1574  7.568627e+03      4.974227\n",
      "12    NGC2110           NaN           NaN\n",
      "13    NGC3169  5.964010e+00      5.433255\n",
      "14    NGC3351           NaN           NaN\n",
      "15    NGC3368           NaN           NaN\n",
      "16    NGC3607  2.349206e+05    186.397985\n",
      "17    NGC3862           NaN           NaN\n",
      "18    NGC4061  5.295181e+00      4.126761\n",
      "19    NGC4261           NaN           NaN\n",
      "20    NGC4429  1.544622e+00      0.041667\n",
      "21    NGC4435  1.041562e+03      5.476821\n",
      "22    NGC4438  5.357143e+05   3131.524008\n",
      "23    NGC4501  3.390244e+05   1791.237113\n",
      "24    NGC4697  1.344371e+00      1.041026\n",
      "25    NGC4826           NaN           NaN\n",
      "26    NGC5064  7.758242e+03      2.684411\n",
      "27   NGC5765b           NaN           NaN\n",
      "28    NGC5806           NaN           NaN\n",
      "29    NGC5995           NaN           NaN\n",
      "30    NGC6753           NaN           NaN\n",
      "31    NGC6958  5.224638e-01      0.250347\n",
      "32    NGC7052  2.428571e+04      0.393238\n",
      "33    NGC7172  1.626506e+07  16225.961538\n",
      "34  PGC043387           NaN           NaN\n"
     ]
    }
   ],
   "source": [
    "print(data[['Galaxy','GtoD Max','GtoD Min']])"
   ]
  },
  {
   "cell_type": "code",
   "execution_count": null,
   "metadata": {},
   "outputs": [],
   "source": []
  }
 ],
 "metadata": {
  "kernelspec": {
   "display_name": "Python 3",
   "language": "python",
   "name": "python3"
  },
  "language_info": {
   "codemirror_mode": {
    "name": "ipython",
    "version": 3
   },
   "file_extension": ".py",
   "mimetype": "text/x-python",
   "name": "python",
   "nbconvert_exporter": "python",
   "pygments_lexer": "ipython3",
   "version": "3.8.3"
  }
 },
 "nbformat": 4,
 "nbformat_minor": 4
}
