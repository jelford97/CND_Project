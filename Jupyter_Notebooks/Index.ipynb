{
 "cells": [
  {
   "cell_type": "code",
   "execution_count": 2,
   "metadata": {},
   "outputs": [],
   "source": [
    "import pandas as pd\n",
    "import numpy as np\n",
    "from scipy.optimize import curve_fit\n",
    "import math\n",
    "from gastimator import gastimator\n",
    "from gastimator import corner_plot"
   ]
  },
  {
   "cell_type": "code",
   "execution_count": 3,
   "metadata": {},
   "outputs": [],
   "source": [
    "data=pd.read_csv('Documents/Python.csv')"
   ]
  },
  {
   "cell_type": "code",
   "execution_count": 137,
   "metadata": {},
   "outputs": [],
   "source": [
    "i=33\n",
    "LSBfreq=data['LSB Frequency (Hz)']\n",
    "LSB=data['LSB Flux Density']\n",
    "LSBrms=data['LSB RMS']\n",
    "USBfreq=data['USB Frequency (Hz)']\n",
    "USB=data['USB Flux Density']\n",
    "USBrms=data['USB RMS']\n",
    "almafreq=np.array([LSBfreq[i],USBfreq[i]])\n",
    "alma=np.array([LSB[i],USB[i]])\n",
    "almarms=np.array([LSBrms[i],USBrms[i]])\n",
    "logAfreq=np.log10(almafreq)\n",
    "logAlma=np.log10(alma)\n",
    "logAlmarms=np.log10(almarms)"
   ]
  },
  {
   "cell_type": "code",
   "execution_count": 138,
   "metadata": {},
   "outputs": [],
   "source": [
    "def index(ALMAfreq,ALMA):\n",
    "    lalma=np.log10(ALMA)\n",
    "    lalmafreq=np.log10(ALMAfreq)\n",
    "    m=(lalma[1]-lalma[0])/(lalmafreq[1]-lalmafreq[0])\n",
    "    return m"
   ]
  },
  {
   "cell_type": "code",
   "execution_count": 139,
   "metadata": {},
   "outputs": [
    {
     "name": "stdout",
     "output_type": "stream",
     "text": [
      "-0.8251024328853\n"
     ]
    }
   ],
   "source": [
    "m=index(almafreq,alma)\n",
    "print(m)"
   ]
  },
  {
   "cell_type": "code",
   "execution_count": 140,
   "metadata": {},
   "outputs": [],
   "source": [
    "def indexerr3(Almafreq,ALMA,ALMArms,m):\n",
    "    lalma=np.log10(ALMA)\n",
    "    lamafreq=np.log10(Almafreq)\n",
    "    r=ALMA[1]/ALMA[0]\n",
    "    dy=np.absolute(r)*math.sqrt((ALMArms[1]/ALMA[1])**2+(ALMArms[0]/ALMA[0]))\n",
    "    logdy=0.434*(dy/r)\n",
    "    dx=lamafreq[1]-lalma[0]\n",
    "    merr=logdy/dx\n",
    "    return merr"
   ]
  },
  {
   "cell_type": "code",
   "execution_count": 141,
   "metadata": {},
   "outputs": [
    {
     "data": {
      "text/plain": [
       "0.0008001803515707969"
      ]
     },
     "execution_count": 141,
     "metadata": {},
     "output_type": "execute_result"
    }
   ],
   "source": [
    "indexerr3(almafreq,alma,almarms,m)"
   ]
  },
  {
   "cell_type": "code",
   "execution_count": null,
   "metadata": {},
   "outputs": [],
   "source": []
  }
 ],
 "metadata": {
  "kernelspec": {
   "display_name": "Python 3",
   "language": "python",
   "name": "python3"
  },
  "language_info": {
   "codemirror_mode": {
    "name": "ipython",
    "version": 3
   },
   "file_extension": ".py",
   "mimetype": "text/x-python",
   "name": "python",
   "nbconvert_exporter": "python",
   "pygments_lexer": "ipython3",
   "version": "3.8.3"
  }
 },
 "nbformat": 4,
 "nbformat_minor": 4
}
