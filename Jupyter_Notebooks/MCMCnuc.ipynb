{
 "cells": [
  {
   "cell_type": "code",
   "execution_count": 1,
   "metadata": {},
   "outputs": [],
   "source": [
    "import numpy as np\n",
    "import matplotlib.pyplot as plt\n",
    "from gastimator import gastimator\n",
    "import pandas as pd\n",
    "from gastimator import priors\n",
    "from gastimator import corner_plot\n",
    "import math"
   ]
  },
  {
   "cell_type": "code",
   "execution_count": 2,
   "metadata": {},
   "outputs": [],
   "source": [
    "SED=pd.read_csv('Documents/NuclearSED.csv')\n",
    "mcmcdet=pd.read_csv('Documents/MCMCfit.csv')\n",
    "SEDdust=pd.read_csv('Documents/DustSED.csv')\n",
    "mcmcdust=pd.read_csv('Documents/MCMCdust.csv')"
   ]
  },
  {
   "cell_type": "code",
   "execution_count": 3,
   "metadata": {},
   "outputs": [],
   "source": [
    "def mod_black_body(values,v,D,T,b):\n",
    "    d=D*3.0856e22\n",
    "    mlog=10**(values)\n",
    "    m=mlog*2e30\n",
    "    c=3e8\n",
    "    h=6.626e-34\n",
    "    kb=1.38e-23\n",
    "    v0=6e11\n",
    "    B=((2*h*v**3/c**2)*1/(np.exp(h*v/(kb*T))))\n",
    "    k0=0.051\n",
    "    k=k0*((v/v0)**b)\n",
    "    S=(k*B*m/(d**2))\n",
    "    sj=S/1e-26\n",
    "    return sj"
   ]
  },
  {
   "cell_type": "code",
   "execution_count": 4,
   "metadata": {},
   "outputs": [],
   "source": [
    "def power_law(values,x):\n",
    "    B=(values[1]*(x/1e10)**values[0])\n",
    "    return B"
   ]
  },
  {
   "cell_type": "code",
   "execution_count": 5,
   "metadata": {},
   "outputs": [],
   "source": [
    "def combined(values,x,D,T,b):\n",
    "    com=power_law(values[0:2],x)+mod_black_body(values[2],x,D,T,b)\n",
    "    return com"
   ]
  },
  {
   "cell_type": "code",
   "execution_count": 6,
   "metadata": {},
   "outputs": [],
   "source": [
    "i=22\n",
    "SEDfreq=mcmcdet['SED Freq']\n",
    "SEDflux=mcmcdet['SED Flux']\n",
    "SEDRMS=mcmcdet['SED RMS']\n",
    "xfreq=SED[SEDfreq[i]]\n",
    "datafl=SED[SEDflux[i]]\n",
    "rms=SED[SEDRMS[i]]\n",
    "rmstot=np.sqrt(((rms/datafl)*100)**2+10**2)\n",
    "#xfreq=[]\n",
    "#datafl=[]\n",
    "#rms=[]\n",
    "usb=mcmcdet['USB Flux']\n",
    "lsb=mcmcdet['LSB Flux']\n",
    "usbfreq=mcmcdet['USB Freq']\n",
    "lsbfreq=mcmcdet['LSB Freq']\n",
    "usbrms=mcmcdet['USB RMS']\n",
    "lsbrms=mcmcdet['LSB RMS']\n",
    "alma=np.array([lsb[i],usb[i]])\n",
    "almafreq=np.array([lsbfreq[i],usbfreq[i]])\n",
    "almarms=np.array([lsbrms[i],usbrms[i]])\n",
    "xfreq=np.append(xfreq,almafreq)\n",
    "datafl=np.append(datafl,alma)\n",
    "rms=np.append(rms,almarms)\n",
    "temp=mcmcdet['Temperature']\n",
    "beta=mcmcdet['Beta']\n",
    "distance=mcmcdet['Distance']\n",
    "indexmax=mcmcdet['Index Max']\n",
    "indexmin=mcmcdet['Index Min']\n",
    "indexguess=mcmcdet['Index Guess']\n",
    "interceptmax=mcmcdet['Intercept Max']\n",
    "interceptmin=mcmcdet['Intercept Min']\n",
    "interceptguess=mcmcdet['Intercept Guess']\n",
    "massmax=mcmcdet['Mass Max']\n",
    "massmin=mcmcdet['Mass Min']\n",
    "massguess=mcmcdet['Mass Guess']\n",
    "mmax=np.log10(massmax)\n",
    "mguess=np.log10(massguess)\n",
    "c=3e5\n",
    "H0=70\n",
    "z=(distance[i]/c)*H0\n",
    "xfreqe=(1+z)*xfreq"
   ]
  },
  {
   "cell_type": "code",
   "execution_count": 133,
   "metadata": {},
   "outputs": [],
   "source": [
    "mcmccom=gastimator(combined,xfreqe,distance[i],temp[i],beta[i])"
   ]
  },
  {
   "cell_type": "code",
   "execution_count": 134,
   "metadata": {},
   "outputs": [],
   "source": [
    "mcmccom.labels=np.array(['Index','Intercept','Mass'])\n",
    "mcmccom.guesses=np.array([indexguess[i],interceptguess[i],mguess[i]])\n",
    "mcmccom.min=np.array([indexmin[i],interceptmin[i],massmin[i]])\n",
    "mcmccom.max=np.array([indexmax[i],interceptmax[i],mmax[i]])\n",
    "mcmccom.fixed=np.array([False,False,False])\n",
    "mcmccom.precision=np.array([1.,1.,1e2])"
   ]
  },
  {
   "cell_type": "code",
   "execution_count": 135,
   "metadata": {},
   "outputs": [
    {
     "name": "stdout",
     "output_type": "stream",
     "text": [
      "Doing chain 1\n",
      "     Chain has not converged - Accept rate: 0.13333333333333333\n",
      "     Chain has not converged - Accept rate: 0.17333333333333334\n",
      "     Target rate not reached\n",
      "Chain converged: LL: -1.2079673723964097 - Accept rate:0.5266666666666666\n",
      "Best chain so far!\n",
      "Best fit:\n",
      "  Index: -0.4904596334172557\n",
      "  Intercept: 0.014180361308677978\n",
      "  Mass: 5.389590354435199\n",
      "Starting final chain\n",
      "Final best fit values and 1sigma errors:\n",
      "  Index: -0.48658845098084863 ± 0.006328766231702115\n",
      "  Intercept: 0.014314494970396233 ± 0.0002270384000146843\n",
      "  Mass: 3.578366655134165 + 1.3382514320709613 - 1.6597719653782224\n"
     ]
    }
   ],
   "source": [
    "nsamplescom=10000\n",
    "outputvaluecom,outputllcom=mcmccom.run(datafl,rms,nsamplescom,nchains=1,plot=False)"
   ]
  },
  {
   "cell_type": "code",
   "execution_count": 176,
   "metadata": {},
   "outputs": [],
   "source": [
    "np.savetxt('7172.csv',outputvaluecom,delimiter=',')\n",
    "np.savetxt('7172ll.csv',outputllcom,delimiter=',')"
   ]
  },
  {
   "cell_type": "code",
   "execution_count": null,
   "metadata": {},
   "outputs": [],
   "source": []
  }
 ],
 "metadata": {
  "kernelspec": {
   "display_name": "Python 3",
   "language": "python",
   "name": "python3"
  },
  "language_info": {
   "codemirror_mode": {
    "name": "ipython",
    "version": 3
   },
   "file_extension": ".py",
   "mimetype": "text/x-python",
   "name": "python",
   "nbconvert_exporter": "python",
   "pygments_lexer": "ipython3",
   "version": "3.8.3"
  }
 },
 "nbformat": 4,
 "nbformat_minor": 4
}
