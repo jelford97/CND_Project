{
 "cells": [
  {
   "cell_type": "code",
   "execution_count": 1,
   "metadata": {},
   "outputs": [],
   "source": [
    "import pandas as pd\n",
    "import numpy as np"
   ]
  },
  {
   "cell_type": "code",
   "execution_count": 2,
   "metadata": {},
   "outputs": [],
   "source": [
    "data=pd.read_csv('Documents/Python.csv')\n",
    "lbol=data['Bolometric Luminosity (erg/s)']"
   ]
  },
  {
   "cell_type": "code",
   "execution_count": 3,
   "metadata": {},
   "outputs": [],
   "source": [
    "def accretion_rate(Lbol):\n",
    "    e=0.1\n",
    "    mdot=0.15*(e/0.1)*(Lbol/1e45)\n",
    "    return mdot"
   ]
  },
  {
   "cell_type": "code",
   "execution_count": 4,
   "metadata": {},
   "outputs": [
    {
     "data": {
      "text/plain": [
       "0     8.715000e-02\n",
       "1     5.700000e-02\n",
       "2              NaN\n",
       "3     1.309500e-05\n",
       "4     1.830000e-08\n",
       "5     4.095000e-05\n",
       "6     3.975000e-07\n",
       "7     5.220000e-03\n",
       "8     1.830000e-04\n",
       "9     4.770000e-04\n",
       "10    5.820000e-07\n",
       "11             NaN\n",
       "12             NaN\n",
       "13    4.665000e-06\n",
       "14    5.880000e-07\n",
       "15    2.025000e-06\n",
       "16    5.325000e-07\n",
       "17    5.445000e-04\n",
       "18             NaN\n",
       "19    9.120000e-05\n",
       "20    1.344000e-06\n",
       "21    3.120000e-07\n",
       "22    5.595000e-07\n",
       "23    4.680000e-06\n",
       "24    3.390000e-07\n",
       "25    1.159500e-07\n",
       "26             NaN\n",
       "27             NaN\n",
       "28             NaN\n",
       "29    1.402500e-01\n",
       "30             NaN\n",
       "31             NaN\n",
       "32             NaN\n",
       "33    5.760000e-03\n",
       "34             NaN\n",
       "Name: Bolometric Luminosity (erg/s), dtype: float64"
      ]
     },
     "execution_count": 4,
     "metadata": {},
     "output_type": "execute_result"
    }
   ],
   "source": [
    "accretion_rate(lbol)"
   ]
  },
  {
   "cell_type": "code",
   "execution_count": null,
   "metadata": {},
   "outputs": [],
   "source": []
  }
 ],
 "metadata": {
  "kernelspec": {
   "display_name": "Python 3",
   "language": "python",
   "name": "python3"
  },
  "language_info": {
   "codemirror_mode": {
    "name": "ipython",
    "version": 3
   },
   "file_extension": ".py",
   "mimetype": "text/x-python",
   "name": "python",
   "nbconvert_exporter": "python",
   "pygments_lexer": "ipython3",
   "version": "3.8.3"
  }
 },
 "nbformat": 4,
 "nbformat_minor": 4
}
