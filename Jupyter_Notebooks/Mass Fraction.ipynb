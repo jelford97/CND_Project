{
 "cells": [
  {
   "cell_type": "code",
   "execution_count": 1,
   "metadata": {},
   "outputs": [],
   "source": [
    "import pandas as pd\n",
    "import numpy as np"
   ]
  },
  {
   "cell_type": "code",
   "execution_count": 2,
   "metadata": {},
   "outputs": [],
   "source": [
    "data=pd.read_csv('Documents/Python.csv')"
   ]
  },
  {
   "cell_type": "code",
   "execution_count": 3,
   "metadata": {},
   "outputs": [],
   "source": [
    "totmass=np.array(data['Total Mass'])\n",
    "mass100=np.array(data['Mass 100pc'])\n",
    "mass75=np.array(data['Mass 75pc'])\n",
    "mass50=np.array(data['Mass 50pc'])"
   ]
  },
  {
   "cell_type": "code",
   "execution_count": 4,
   "metadata": {},
   "outputs": [],
   "source": [
    "massfrac100=(mass100/totmass)*100\n",
    "massfrac75=(mass75/totmass)*100\n",
    "massfrac50=(mass50/totmass)*100"
   ]
  },
  {
   "cell_type": "code",
   "execution_count": 5,
   "metadata": {},
   "outputs": [
    {
     "name": "stdout",
     "output_type": "stream",
     "text": [
      "[        nan  2.23789544  2.48914547  3.63354972 82.5136612          nan\n",
      " 15.69800055         nan  7.20965626 37.13234441  3.07955755 23.73121918\n",
      "         nan 15.82248095         nan 16.58785106 11.59232484         nan\n",
      "  0.55845007         nan  4.57758186 18.48289964 11.12314016  7.47459435\n",
      " 71.43880104         nan 10.11508254         nan  4.79951748         nan\n",
      " 10.70195467  8.70554514  6.04676135  1.4859117          nan]\n"
     ]
    }
   ],
   "source": [
    "print(massfrac100)"
   ]
  },
  {
   "cell_type": "code",
   "execution_count": 6,
   "metadata": {},
   "outputs": [
    {
     "name": "stdout",
     "output_type": "stream",
     "text": [
      "[        nan         nan         nan  2.12174784 81.42076503         nan\n",
      " 10.31980168         nan  4.64966279 24.95547098  1.71393375 19.48518817\n",
      "         nan  9.88446257         nan 10.76428104  7.73596589         nan\n",
      "  0.35102576         nan  2.51673331 11.71551398  6.94774504  4.76338357\n",
      " 56.40775718         nan  5.50427056         nan  3.47962502         nan\n",
      "  6.41660512  5.33630271  3.66524685  0.6858054          nan]\n"
     ]
    }
   ],
   "source": [
    "print(massfrac75)"
   ]
  },
  {
   "cell_type": "code",
   "execution_count": 7,
   "metadata": {},
   "outputs": [
    {
     "name": "stdout",
     "output_type": "stream",
     "text": [
      "[        nan         nan         nan  0.84451644 75.40983607         nan\n",
      "  5.38477926         nan  2.15972082         nan  0.73309821 10.79082611\n",
      "         nan         nan         nan  5.82576003         nan         nan\n",
      "         nan         nan  0.80107683  6.23668792  3.23347098  2.37763287\n",
      " 34.28725475         nan  2.68446989         nan  1.96614716         nan\n",
      "  3.07131439  2.39402491  1.52152247  0.27233432         nan]\n"
     ]
    }
   ],
   "source": [
    "print(massfrac50)"
   ]
  },
  {
   "cell_type": "code",
   "execution_count": null,
   "metadata": {},
   "outputs": [],
   "source": []
  }
 ],
 "metadata": {
  "kernelspec": {
   "display_name": "Python 3",
   "language": "python",
   "name": "python3"
  },
  "language_info": {
   "codemirror_mode": {
    "name": "ipython",
    "version": 3
   },
   "file_extension": ".py",
   "mimetype": "text/x-python",
   "name": "python",
   "nbconvert_exporter": "python",
   "pygments_lexer": "ipython3",
   "version": "3.8.3"
  }
 },
 "nbformat": 4,
 "nbformat_minor": 4
}
