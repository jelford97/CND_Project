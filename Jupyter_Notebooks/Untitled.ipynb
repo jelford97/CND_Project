{
 "cells": [
  {
   "cell_type": "code",
   "execution_count": 15,
   "id": "0198a340",
   "metadata": {},
   "outputs": [],
   "source": [
    "import pandas as pd\n",
    "import numpy as np"
   ]
  },
  {
   "cell_type": "code",
   "execution_count": 57,
   "id": "8dfde1d9",
   "metadata": {},
   "outputs": [],
   "source": [
    "data=pd.read_csv('/Users/jelford/Documents/PhD_Work/CND_Project/CSV_Files/Python.csv')"
   ]
  },
  {
   "cell_type": "code",
   "execution_count": 41,
   "id": "6211ea93",
   "metadata": {},
   "outputs": [],
   "source": [
    "Galaxy=data['Galaxy']\n",
    "radio=np.round(data['Excess Radio Log'],2)\n",
    "radioerr=np.round(data['Excess Radio Log Error'],3)\n",
    "xray=data['X-ray Luminosity (ergs/s)']\n",
    "xrayerr=data['X-ray Luminosity Uncertainty (ergs/s)']\n",
    "mm=data['mm Luminosity (erg/s)']\n",
    "mmerrr=data['mm Luminosity Uncertainty (erg/s)']\n",
    "OIII=data['Log OIII Lum (erg/s)']\n",
    "OIIIerr=data['Log OIII Error']\n",
    "LSBfreq=data['LSB Frequency (Hz)']/1e9\n",
    "LSB=data['LSB Flux Density']/1e-3\n",
    "LSBRMS=data['LSB RMS']/1e-3\n",
    "USBfreq=data['USB Frequency (Hz)']/1e9\n",
    "USB=data['USB Flux Density']/1e-3\n",
    "USBRMS=data['USB RMS']/1e-3\n",
    "Kband=np.round(data['Kband Mag'],1)\n",
    "Kbanderr=data['Kband Mag Error']"
   ]
  },
  {
   "cell_type": "code",
   "execution_count": 42,
   "id": "22d120b7",
   "metadata": {},
   "outputs": [],
   "source": [
    "Obs={'Galaxy':Galaxy,'Excess Radio':radio,'Excess Radio error':radioerr,'X-ray Luminsoity (erg/s)':xray,'X-ray Luminosity error (erg/s)':xrayerr,'Nuclear mm Luminosity (erg/s)':mm,'Nuclear mm Luminosity error (erg/s)':mmerrr,'log OIII Luminosity (erg/s)':OIII,'log OIII Luminosity error (erg/s)':OIIIerr,'LSB Frequency (GHz)':LSBfreq,'LSB Flux (mJy)':LSB,'LSB RMS (mJy)':LSBRMS,'USB Frequency (GHz)':USBfreq,'USB Flux (mJy)':USB,'USB RMS (mJy)':USBRMS,'Kband Mag':Kband,'Kband Mag Error':Kbanderr}"
   ]
  },
  {
   "cell_type": "code",
   "execution_count": 43,
   "id": "d125dd15",
   "metadata": {},
   "outputs": [],
   "source": [
    "obs=pd.DataFrame(data=Obs)"
   ]
  },
  {
   "cell_type": "code",
   "execution_count": 44,
   "id": "9290a103",
   "metadata": {},
   "outputs": [],
   "source": [
    "obs.to_csv('/Users/jelford/Documents/PhD_Work/CND_Project/CSV_Files/App_Table_1.csv',index=False)"
   ]
  },
  {
   "cell_type": "code",
   "execution_count": 45,
   "id": "b4e5a5e1",
   "metadata": {},
   "outputs": [],
   "source": [
    "Xray_acc=data['Accretion rate (M_solar/yr)']\n",
    "Xray_accerr=data['Accretion Rate Error']\n",
    "OII_acc=data['OIII Accretion rate']\n",
    "OIII_accerr=data['OIII Accretion rate error']"
   ]
  },
  {
   "cell_type": "code",
   "execution_count": 46,
   "id": "915e541b",
   "metadata": {},
   "outputs": [],
   "source": [
    "Der={'Galaxy':Galaxy,'X-ray Traced Accretion Rate':Xray_acc,'X-ray Traced Accretion Rate Error':Xray_accerr,'OIII Traced Accretion Rate':OII_acc,'OIII Traced Accretion Rate Error':OIII_accerr}"
   ]
  },
  {
   "cell_type": "code",
   "execution_count": 47,
   "id": "d8725bee",
   "metadata": {},
   "outputs": [],
   "source": [
    "der=pd.DataFrame(data=Der)"
   ]
  },
  {
   "cell_type": "code",
   "execution_count": 48,
   "id": "93455f9b",
   "metadata": {},
   "outputs": [],
   "source": [
    "der.to_csv('/Users/jelford/Documents/PhD_Work/CND_Project/CSV_Files/App_Table_2.csv',index=False)"
   ]
  },
  {
   "cell_type": "code",
   "execution_count": 58,
   "id": "fd2f87aa",
   "metadata": {},
   "outputs": [],
   "source": [
    "Mass200=data['Mass 200pc']\n",
    "Mass200err=data['Mass 200pc Error']"
   ]
  },
  {
   "cell_type": "code",
   "execution_count": 59,
   "id": "1fd7b7b3",
   "metadata": {},
   "outputs": [],
   "source": [
    "Log_mass200=np.log10(Mass200)"
   ]
  },
  {
   "cell_type": "code",
   "execution_count": 60,
   "id": "03688895",
   "metadata": {},
   "outputs": [],
   "source": [
    "Logmass200err=0.434*(Mass200err/Mass200)"
   ]
  },
  {
   "cell_type": "code",
   "execution_count": 61,
   "id": "f0b72a16",
   "metadata": {},
   "outputs": [
    {
     "name": "stdout",
     "output_type": "stream",
     "text": [
      "0          NaN\n",
      "1     8.379175\n",
      "2     8.901153\n",
      "3     8.151369\n",
      "4     6.178977\n",
      "5          NaN\n",
      "6     7.424394\n",
      "7     8.200994\n",
      "8     8.120876\n",
      "9     7.487652\n",
      "10    7.667791\n",
      "11    6.795170\n",
      "12    7.350942\n",
      "13    8.267143\n",
      "14    7.660570\n",
      "15    8.366521\n",
      "16    7.889099\n",
      "17         NaN\n",
      "18    7.654825\n",
      "19    7.320152\n",
      "20    7.314328\n",
      "21    7.610912\n",
      "22    8.186359\n",
      "23    8.055120\n",
      "24    6.015888\n",
      "25    7.799750\n",
      "26    8.132421\n",
      "27    8.409245\n",
      "28    7.567707\n",
      "29         NaN\n",
      "30    8.630408\n",
      "31    7.700942\n",
      "32    7.752311\n",
      "33    8.356378\n",
      "34         NaN\n",
      "Name: Mass 200pc, dtype: float64 0          NaN\n",
      "1     0.043400\n",
      "2     0.043401\n",
      "3     0.043400\n",
      "4     0.043400\n",
      "5          NaN\n",
      "6     0.043400\n",
      "7     0.043518\n",
      "8     0.043401\n",
      "9     0.043404\n",
      "10    0.043400\n",
      "11    0.043401\n",
      "12    0.043416\n",
      "13    0.043400\n",
      "14    0.043400\n",
      "15    0.043400\n",
      "16    0.043400\n",
      "17         NaN\n",
      "18    0.043401\n",
      "19    0.043400\n",
      "20    0.043400\n",
      "21    0.043400\n",
      "22    0.043400\n",
      "23    0.043400\n",
      "24    0.043401\n",
      "25    0.043400\n",
      "26    0.043401\n",
      "27    0.043403\n",
      "28    0.043400\n",
      "29         NaN\n",
      "30    0.043400\n",
      "31    0.043419\n",
      "32    0.043400\n",
      "33    0.043400\n",
      "34         NaN\n",
      "dtype: float64\n"
     ]
    }
   ],
   "source": [
    "print(Log_mass200,Logmass200err)"
   ]
  },
  {
   "cell_type": "code",
   "execution_count": null,
   "id": "7851cf1d",
   "metadata": {},
   "outputs": [],
   "source": []
  }
 ],
 "metadata": {
  "kernelspec": {
   "display_name": "Python 3 (ipykernel)",
   "language": "python",
   "name": "python3"
  },
  "language_info": {
   "codemirror_mode": {
    "name": "ipython",
    "version": 3
   },
   "file_extension": ".py",
   "mimetype": "text/x-python",
   "name": "python",
   "nbconvert_exporter": "python",
   "pygments_lexer": "ipython3",
   "version": "3.9.12"
  }
 },
 "nbformat": 4,
 "nbformat_minor": 5
}
