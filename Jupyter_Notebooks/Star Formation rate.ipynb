{
 "cells": [
  {
   "cell_type": "code",
   "execution_count": 2,
   "metadata": {},
   "outputs": [],
   "source": [
    "import numpy as np\n",
    "import math\n",
    "import pandas as pd"
   ]
  },
  {
   "cell_type": "code",
   "execution_count": 3,
   "metadata": {},
   "outputs": [],
   "source": [
    "def star_formation(Te,v,s,d):\n",
    "    sj=s*1e-26\n",
    "    dis=d*3.086e22\n",
    "    lum=sj*4*math.pi*(dis)**2\n",
    "    erg=lum*1e7\n",
    "    sfr=4.6e-28*((Te/1e4)**-0.45)*((v/1e9)**0.1)*erg\n",
    "    return sfr"
   ]
  },
  {
   "cell_type": "code",
   "execution_count": 4,
   "metadata": {},
   "outputs": [],
   "source": [
    "data=pd.read_csv('/home/jacob/Documents/Python.csv')"
   ]
  },
  {
   "cell_type": "code",
   "execution_count": 4,
   "metadata": {},
   "outputs": [],
   "source": [
    "freq=data['1mm frequency (Hz)']\n",
    "flux=data['1mm flux density (Jy)']\n",
    "dist=data['Distance (Mpc)']"
   ]
  },
  {
   "cell_type": "code",
   "execution_count": 5,
   "metadata": {},
   "outputs": [
    {
     "name": "stdout",
     "output_type": "stream",
     "text": [
      "       Galaxy  Star Formation Rate\n",
      "0     Frl1146               8.3400\n",
      "1       FRL49               6.4900\n",
      "2      MRK567                  NaN\n",
      "3     NGC0383             265.5600\n",
      "4     NGC0404               0.0003\n",
      "5     NGC0449               2.5200\n",
      "6     NGC0524               2.9400\n",
      "7     NGC0612             403.6400\n",
      "8     NGC0708               4.2700\n",
      "9     NGC1194               4.2100\n",
      "10    NGC1387               0.3900\n",
      "11    NGC1574               1.1800\n",
      "12    NGC2110              25.8100\n",
      "13    NGC3169               1.1400\n",
      "14    NGC3351                  NaN\n",
      "15    NGC3368                  NaN\n",
      "16    NGC3607               1.2600\n",
      "17    NGC3862             516.1000\n",
      "18    NGC4061              20.2700\n",
      "19    NGC4261             210.6600\n",
      "20    NGC4429               0.3000\n",
      "21    NGC4435               0.1900\n",
      "22    NGC4438               0.1400\n",
      "23    NGC4501               0.2700\n",
      "24    NGC4697               0.0600\n",
      "25    NGC4826               0.0200\n",
      "26    NGC5064               0.3100\n",
      "27   NGC5765b               4.0400\n",
      "28    NGC5806               0.0600\n",
      "29    NGC5995                  NaN\n",
      "30    NGC6753               0.2300\n",
      "31    NGC6958                  NaN\n",
      "32    NGC7052              45.0000\n",
      "33    NGC7172               9.2000\n",
      "34  PGC043387                  NaN\n"
     ]
    }
   ],
   "source": [
    "print(data[['Galaxy','Star Formation Rate']])"
   ]
  },
  {
   "cell_type": "code",
   "execution_count": 6,
   "metadata": {},
   "outputs": [
    {
     "data": {
      "text/plain": [
       "10.911499517610553"
      ]
     },
     "execution_count": 6,
     "metadata": {},
     "output_type": "execute_result"
    }
   ],
   "source": [
    "star_formation(1e4,2.34e11,0.000994,107.5)"
   ]
  },
  {
   "cell_type": "code",
   "execution_count": null,
   "metadata": {},
   "outputs": [],
   "source": []
  }
 ],
 "metadata": {
  "kernelspec": {
   "display_name": "Python 3 (ipykernel)",
   "language": "python",
   "name": "python3"
  },
  "language_info": {
   "codemirror_mode": {
    "name": "ipython",
    "version": 3
   },
   "file_extension": ".py",
   "mimetype": "text/x-python",
   "name": "python",
   "nbconvert_exporter": "python",
   "pygments_lexer": "ipython3",
   "version": "3.9.12"
  }
 },
 "nbformat": 4,
 "nbformat_minor": 4
}
