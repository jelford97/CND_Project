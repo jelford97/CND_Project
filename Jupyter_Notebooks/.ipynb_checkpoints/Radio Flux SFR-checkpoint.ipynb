{
 "cells": [
  {
   "cell_type": "code",
   "execution_count": 1,
   "metadata": {},
   "outputs": [],
   "source": [
    "import pandas as pd\n",
    "import numpy as np\n",
    "import matplotlib.pyplot as plt\n",
    "import math"
   ]
  },
  {
   "cell_type": "code",
   "execution_count": 2,
   "metadata": {},
   "outputs": [],
   "source": [
    "data=pd.read_csv('Documents/Python.csv')"
   ]
  },
  {
   "cell_type": "code",
   "execution_count": 3,
   "metadata": {},
   "outputs": [],
   "source": [
    "D=data['Distance (Mpc)']\n",
    "Fr=1.4e9\n",
    "Telc=1e4"
   ]
  },
  {
   "cell_type": "code",
   "execution_count": 4,
   "metadata": {},
   "outputs": [],
   "source": [
    "SFRtot=data['Total Mass']/2e9"
   ]
  },
  {
   "cell_type": "code",
   "execution_count": 5,
   "metadata": {},
   "outputs": [],
   "source": [
    "def radio_flux(SFR,Te,fr,dist):\n",
    "    radiolum=(SFR/1e-27)*(2.18*(Te/1e4)**0.45*(fr/1e9)**(-0.1)+15.1*(fr/1e9)**-0.8)\n",
    "    d=dist*3.086e24\n",
    "    radio=radiolum/(4*math.pi*(d)**2)\n",
    "    radioflux=radio/1e-23\n",
    "    return radioflux"
   ]
  },
  {
   "cell_type": "code",
   "execution_count": 6,
   "metadata": {},
   "outputs": [],
   "source": [
    "totrf=radio_flux(SFRtot,Telc,Fr,D)"
   ]
  },
  {
   "cell_type": "code",
   "execution_count": 7,
   "metadata": {},
   "outputs": [],
   "source": [
    "data['Total Radio Flux SFR']=totrf"
   ]
  },
  {
   "cell_type": "code",
   "execution_count": 8,
   "metadata": {},
   "outputs": [],
   "source": [
    "x=np.logspace(-5,-1,100)\n",
    "y=x"
   ]
  },
  {
   "cell_type": "code",
   "execution_count": 9,
   "metadata": {},
   "outputs": [
    {
     "data": {
      "text/plain": [
       "Text(0, 0.5, 'Measured Radio Flux')"
      ]
     },
     "execution_count": 9,
     "metadata": {},
     "output_type": "execute_result"
    },
    {
     "data": {
      "image/png": "[encoded data removed]",
      "text/plain": [
       "<Figure size 432x288 with 1 Axes>"
      ]
     },
     "metadata": {
      "needs_background": "light"
     },
     "output_type": "display_data"
    }
   ],
   "source": [
    "plt.loglog(data['Total Radio Flux SFR'],data['Radio Flux (Jy)'],'o')\n",
    "plt.loglog(x,y,color='black',linestyle='--')\n",
    "plt.xlabel('Total Radio Flux from SF')\n",
    "plt.ylabel('Measured Radio Flux')"
   ]
  },
  {
   "cell_type": "code",
   "execution_count": 10,
   "metadata": {},
   "outputs": [
    {
     "name": "stdout",
     "output_type": "stream",
     "text": [
      "0             NaN\n",
      "1       28.871316\n",
      "2        5.937597\n",
      "3     2683.636753\n",
      "4        3.126528\n",
      "5       61.738245\n",
      "6        5.388865\n",
      "7     3049.253646\n",
      "8       62.206969\n",
      "9       34.394476\n",
      "10       0.757275\n",
      "11            NaN\n",
      "12            NaN\n",
      "13      14.245505\n",
      "14            NaN\n",
      "15       3.551244\n",
      "16       2.147571\n",
      "17            NaN\n",
      "18     265.740783\n",
      "19            NaN\n",
      "20       0.050606\n",
      "21       2.958790\n",
      "22       5.585736\n",
      "23      13.559448\n",
      "24      11.523307\n",
      "25            NaN\n",
      "26      43.549604\n",
      "27      10.877436\n",
      "28       4.068426\n",
      "29            NaN\n",
      "30      24.950507\n",
      "31      14.492597\n",
      "32     238.334137\n",
      "33       3.766924\n",
      "34            NaN\n",
      "dtype: float64\n"
     ]
    }
   ],
   "source": [
    "print(data['Radio Flux (Jy)']/data['Total Radio Flux SFR'])"
   ]
  },
  {
   "cell_type": "code",
   "execution_count": 18,
   "metadata": {},
   "outputs": [
    {
     "name": "stdout",
     "output_type": "stream",
     "text": [
      "0       Frl1146\n",
      "1         FRL49\n",
      "2        MRK567\n",
      "3       NGC0383\n",
      "4       NGC0404\n",
      "5       NGC0449\n",
      "6       NGC0524\n",
      "7       NGC0612\n",
      "8       NGC0708\n",
      "9       NGC1194\n",
      "10      NGC1387\n",
      "11      NGC1574\n",
      "12      NGC2110\n",
      "13      NGC3169\n",
      "14      NGC3351\n",
      "15      NGC3368\n",
      "16      NGC3607\n",
      "17      NGC3862\n",
      "18      NGC4061\n",
      "19      NGC4261\n",
      "20      NGC4429\n",
      "21      NGC4435\n",
      "22      NGC4438\n",
      "23      NGC4501\n",
      "24      NGC4697\n",
      "25      NGC4826\n",
      "26      NGC5064\n",
      "27     NGC5765b\n",
      "28      NGC5806\n",
      "29      NGC5995\n",
      "30      NGC6753\n",
      "31      NGC6958\n",
      "32      NGC7052\n",
      "33      NGC7172\n",
      "34    PGC043387\n",
      "Name: Galaxy, dtype: object\n"
     ]
    }
   ],
   "source": [
    "print(data['Galaxy'])"
   ]
  },
  {
   "cell_type": "code",
   "execution_count": null,
   "metadata": {},
   "outputs": [],
   "source": []
  }
 ],
 "metadata": {
  "kernelspec": {
   "display_name": "Python 3 (ipykernel)",
   "language": "python",
   "name": "python3"
  },
  "language_info": {
   "codemirror_mode": {
    "name": "ipython",
    "version": 3
   },
   "file_extension": ".py",
   "mimetype": "text/x-python",
   "name": "python",
   "nbconvert_exporter": "python",
   "pygments_lexer": "ipython3",
   "version": "3.9.12"
  }
 },
 "nbformat": 4,
 "nbformat_minor": 4
}
