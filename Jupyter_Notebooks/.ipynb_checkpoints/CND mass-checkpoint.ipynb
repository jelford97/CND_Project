{
 "cells": [
  {
   "cell_type": "code",
   "execution_count": 1,
   "metadata": {},
   "outputs": [],
   "source": [
    "import numpy as np\n",
    "import matplotlib.pyplot as plt\n",
    "from astropy.io import fits\n",
    "import math\n",
    "from scipy import ndimage\n",
    "from scipy import integrate\n",
    "from astropy import units as u\n",
    "import pandas as pd\n",
    "from astropy.convolution import interpolate_replace_nans"
   ]
  },
  {
   "cell_type": "code",
   "execution_count": 2,
   "metadata": {},
   "outputs": [],
   "source": [
    "parameters=pd.read_csv('Parameters.csv')\n",
    "dist=parameters['Distance']\n",
    "inc=parameters['Inclination']\n",
    "PA=parameters['Position angle']\n",
    "freq=parameters['Frequency']\n",
    "beamwidth=parameters['Beam width']\n",
    "channelwidth=parameters['Channel width']\n",
    "xcentre=parameters['X centre']\n",
    "ycentre=parameters['Y centre']\n",
    "N1=parameters['N1']\n",
    "N2=parameters['N2']\n",
    "R=parameters['Ratio']\n",
    "filepath=parameters['File Path']\n",
    "beamtable=parameters['Beam Table']\n",
    "havecube=parameters['Cube']\n",
    "assize=parameters['Total Size']\n",
    "dims=parameters['Dims']\n",
    "jupper=parameters['Jupper']"
   ]
  },
  {
   "cell_type": "code",
   "execution_count": 3,
   "metadata": {},
   "outputs": [],
   "source": [
    "def total_size(distance,sizeas):\n",
    "    totsize=4.84*distance*sizeas\n",
    "    return totsize"
   ]
  },
  {
   "cell_type": "code",
   "execution_count": 4,
   "metadata": {},
   "outputs": [],
   "source": [
    "def get_info(hdu,distance,beamtable):\n",
    "    hdr=hdu[0].header\n",
    "    if beamtable=='Yes':\n",
    "        beamtab=hdu[1].data\n",
    "        bmajas=np.median(beamtab['BMAJ'])\n",
    "        bminas=np.median(beamtab['BMIN'])\n",
    "        bmaj=bmajas/3600\n",
    "        bmin=bminas/3600\n",
    "    else:\n",
    "        bmaj=hdr['BMAJ']\n",
    "        bmin=hdr['BMIN']\n",
    "    xcellsize=hdr['CDELT1']\n",
    "    deltx_arcsec=np.abs(xcellsize)*3600\n",
    "    deltx_pc=4.84*distance*deltx_arcsec\n",
    "    return deltx_pc,bmaj,bmin,xcellsize"
   ]
  },
  {
   "cell_type": "code",
   "execution_count": 5,
   "metadata": {},
   "outputs": [],
   "source": [
    "def get_ratio(radius,inclination):\n",
    "    major_axis=radius\n",
    "    if inclination>85:\n",
    "        minor_axis=major_axis\n",
    "    else:\n",
    "        minor_axis=radius*np.cos(np.deg2rad(inclination))\n",
    "    ratio=major_axis/minor_axis\n",
    "    return ratio"
   ]
  },
  {
   "cell_type": "code",
   "execution_count": 6,
   "metadata": {},
   "outputs": [],
   "source": [
    "def distance_ellipse(shape, center, ratio, angle):\n",
    "\n",
    "    \"\"\"\n",
    "    :return:\n",
    "    \"\"\"\n",
    "\n",
    "    return dist_ellipse(shape, center.x, center.y, ratio, angle.to(\"deg\").value)\n",
    "\n",
    "def dist_ellipse(deltx_pc, my_apertute_size,n1,n2,xc, yc, ratio, pa=0): \n",
    "    ang = np.radians(pa + 90.)\n",
    "    cosang = np.cos(ang)\n",
    "    sinang = np.sin(ang)\n",
    "    nx = n1\n",
    "    ny = n2\n",
    "    x = np.arange(-xc,nx-xc)\n",
    "    y = np.arange(-yc,ny-yc)\n",
    "\n",
    "    im = np.empty([n1,n2])\n",
    "    xcosang = x*cosang\n",
    "    xsinang = x*sinang\n",
    "\n",
    "    for i in range(0, ny):\n",
    "\n",
    "        xtemp = xcosang + y[i]*sinang\n",
    "        ytemp = -xsinang + y[i]*cosang\n",
    "        im[i,:] = np.sqrt((xtemp*ratio)**2 + ytemp**2)\n",
    "    return im*deltx_pc<my_apertute_size "
   ]
  },
  {
   "cell_type": "code",
   "execution_count": 7,
   "metadata": {},
   "outputs": [],
   "source": [
    "#def get_radius(radius,deltx_pc):\n",
    "    #radius_pixel=radius/deltx_pc\n",
    "    #radius_pix=round(radius_pixel)\n",
    "    #return radius_pix"
   ]
  },
  {
   "cell_type": "code",
   "execution_count": 8,
   "metadata": {},
   "outputs": [],
   "source": [
    "#radius_pix,xcentre,ycentre\n",
    "def hydrogen_mass(cube,im,distance,bmaj,bmin,xcellsize,channel_width,R,Jup):\n",
    "    #mh=1.67e-27*u.kg\n",
    "    #kb=1.38e-23*u.J/u.Kelvin\n",
    "    Xco=3e20#*u.s/(u.Kelvin*u.km*(u.cm)**2)\n",
    "    Xco20=3e20/2e20\n",
    "    Rref=1/R\n",
    "    Dl=distance\n",
    "    #wavelength=(3e8/frequency)*u.meter\n",
    "    #x_max=xcentre+radius_pix\n",
    "    #x_min=xcentre-radius_pix\n",
    "    #y_max=ycentre+radius_pix\n",
    "    #y_min=ycentre-radius_pix\n",
    "    data=im*cube\n",
    "    inv_beam=(math.pi*(bmaj/np.abs(xcellsize))*(bmin/np.abs(xcellsize)))/(4*math.log(2))\n",
    "    #spectrum=(inv_beam**(-1)*(cube[:,int(x_min):int(x_max),int(y_min):int(y_max)])).sum(axis=1).sum(axis=1)\n",
    "    spectrum=np.nansum((np.nansum((inv_beam**(-1)*data),axis=1)),axis=1)\n",
    "    #sum_spectrum=(integrate.trapz(spectrum))*u.Jy*u.km/u.s\n",
    "    sum_spectrum=(np.nansum(spectrum)*channel_width)#*u.Jy*u.km/u.s\n",
    "    #mass_hydrogen=np.abs((2*mh*(wavelength**2/(2*kb))*Xco*Dl**2*R*sum_spectrum).decompose())\n",
    "    #mass_hydrogen_lsolar=(mass_hydrogen/(2e30*u.kg)).decompose()\n",
    "    mass_hydrogen_lsolar=7847*(1/(Jup**2))*Xco20*Rref*Dl**2*sum_spectrum\n",
    "    return mass_hydrogen_lsolar"
   ]
  },
  {
   "cell_type": "code",
   "execution_count": 9,
   "metadata": {},
   "outputs": [],
   "source": [
    "totsize=total_size(dist,assize)"
   ]
  },
  {
   "cell_type": "code",
   "execution_count": 10,
   "metadata": {},
   "outputs": [
    {
     "name": "stdout",
     "output_type": "stream",
     "text": [
      "[           nan 7.38611785e+07 3.30474535e+08 5.11663057e+07\n",
      "            nan            nan 8.59516515e+06            nan\n",
      " 4.54312038e+07 1.34185112e+07 1.13242906e+07 5.51967224e+06\n",
      "            nan 6.34807837e+07            nan 7.46187865e+07\n",
      " 3.22332112e+07            nan 1.25509321e+07            nan\n",
      " 4.31933772e+06 1.79451729e+07 6.02304604e+07 5.24522614e+07\n",
      " 8.47994952e+05            nan 4.71298093e+07            nan\n",
      " 1.44911643e+07            nan 1.45815918e+08 1.48138118e+07\n",
      " 2.45906316e+07 2.99255931e+07            nan]\n"
     ]
    }
   ],
   "source": [
    "mass=[]\n",
    "for i in range(len(havecube)):\n",
    "    app=100\n",
    "    if havecube[i]=='No':\n",
    "        hmass=np.NaN\n",
    "        mass.append(hmass)\n",
    "    else:\n",
    "        hdu=fits.open(filepath[i])\n",
    "        cube=hdu[0].data\n",
    "        if dims[i]==4:\n",
    "            cuben=np.squeeze(cube)\n",
    "        else:\n",
    "            cuben=cube\n",
    "        if beamwidth[i]>app:\n",
    "            hmass=np.NaN\n",
    "            mass.append(hmass)\n",
    "        else:\n",
    "            info=get_info(hdu,dist[i],beamtable[i])\n",
    "            deltx_pc=info[0]\n",
    "            bmaj=info[1]\n",
    "            bmin=info[2]\n",
    "            xcellsize=info[3]\n",
    "            #mask=smooth_mask(dimensions[i],cube,bmaj/np.abs(xcellsize),[1,20],rmsfac=3)\n",
    "            #cubem=mask*cube\n",
    "\n",
    "            ratio=get_ratio(app,inc[i])\n",
    "    \n",
    "            im=dist_ellipse(deltx_pc,app,N1[i],N2[i],xcentre[i],ycentre[i],ratio,PA[i])\n",
    "    \n",
    "            hmass=hydrogen_mass(cuben,im,dist[i],bmaj,bmin,xcellsize,channelwidth[i],R[i],jupper[i])\n",
    "    \n",
    "            mass.append(hmass)\n",
    "        hdu.close()\n",
    "print(np.array(mass))"
   ]
  },
  {
   "cell_type": "code",
   "execution_count": 11,
   "metadata": {},
   "outputs": [],
   "source": [
    "python=pd.read_csv('/home/jacob/Documents/Python.csv')"
   ]
  },
  {
   "cell_type": "code",
   "execution_count": 12,
   "metadata": {},
   "outputs": [
    {
     "name": "stdout",
     "output_type": "stream",
     "text": [
      "[      nan       nan       nan 29897345.       nan       nan  5653605.\n",
      "       nan 29279439.  9005715.  6289037.  4532352.       nan 39669087.\n",
      "       nan 48409849. 21488192.       nan       nan       nan  2375116.\n",
      " 11346039. 37602174. 33457018.   669577.       nan 25630156.       nan\n",
      " 10512424.       nan 87537686.  9072066. 14911300.       nan       nan]\n"
     ]
    }
   ],
   "source": [
    "massround=np.around(np.array(mass),decimals=0)\n",
    "python['Mass 75pc']=massround\n",
    "print(massround)"
   ]
  },
  {
   "cell_type": "code",
   "execution_count": 13,
   "metadata": {},
   "outputs": [],
   "source": [
    "python.to_csv('Python.csv',index=False)"
   ]
  },
  {
   "cell_type": "code",
   "execution_count": 10,
   "metadata": {},
   "outputs": [],
   "source": [
    "ngc=fits.open('/home/jacob/Documents/WISDOMdata/Data_cubes/NGC0404_cube.fits')\n",
    "ngcdata=ngc[0].data\n",
    "ngchdr=ngc[0].header"
   ]
  },
  {
   "cell_type": "code",
   "execution_count": 16,
   "metadata": {},
   "outputs": [],
   "source": [
    "infongc=get_info(ngc,dist[4],beamtable[4])\n",
    "deltx_pcngc=infongc[0]\n",
    "bmajngc=infongc[1]\n",
    "bminngc=infongc[2]\n",
    "xcellsizengc=infongc[3]"
   ]
  },
  {
   "cell_type": "code",
   "execution_count": null,
   "metadata": {},
   "outputs": [],
   "source": [
    "rationgc=get_ratio(100,inc[4])\n",
    "    \n",
    "imngc=dist_ellipse(deltx_pcngc,100,N1[4],N2[4],xcentre[4],ycentre[4],rationgc,PA[4])\n",
    "    \n",
    "hmassngc=hydrogen_mass(ngcdata,imngc,dist[4],bmajngc,bminngc,xcellsizengc,channelwidth[4],R[4],jupper[4])"
   ]
  },
  {
   "cell_type": "code",
   "execution_count": 3,
   "metadata": {},
   "outputs": [],
   "source": [
    "tst=fits.open('/home/jacob/Documents/WISDOMdata/Data_cubes/NGC4826_2kms_cube.fits')"
   ]
  },
  {
   "cell_type": "code",
   "execution_count": 6,
   "metadata": {},
   "outputs": [],
   "source": [
    "tsth=tst[0].header\n",
    "tstd=tst[0].data"
   ]
  },
  {
   "cell_type": "code",
   "execution_count": 7,
   "metadata": {},
   "outputs": [
    {
     "data": {
      "text/plain": [
       "(210, 400, 400)"
      ]
     },
     "execution_count": 7,
     "metadata": {},
     "output_type": "execute_result"
    }
   ],
   "source": [
    "tstd.shape"
   ]
  },
  {
   "cell_type": "code",
   "execution_count": null,
   "metadata": {},
   "outputs": [],
   "source": []
  }
 ],
 "metadata": {
  "kernelspec": {
   "display_name": "Python 3 (ipykernel)",
   "language": "python",
   "name": "python3"
  },
  "language_info": {
   "codemirror_mode": {
    "name": "ipython",
    "version": 3
   },
   "file_extension": ".py",
   "mimetype": "text/x-python",
   "name": "python",
   "nbconvert_exporter": "python",
   "pygments_lexer": "ipython3",
   "version": "3.9.12"
  }
 },
 "nbformat": 4,
 "nbformat_minor": 4
}
