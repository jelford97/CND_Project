{
 "cells": [
  {
   "cell_type": "code",
   "execution_count": 1,
   "metadata": {},
   "outputs": [],
   "source": [
    "import numpy as np\n",
    "import matplotlib.pyplot as plt\n",
    "import pandas as pd\n",
    "import math"
   ]
  },
  {
   "cell_type": "code",
   "execution_count": 2,
   "metadata": {},
   "outputs": [],
   "source": [
    "data=pd.read_csv('Python.csv')"
   ]
  },
  {
   "cell_type": "code",
   "execution_count": 3,
   "metadata": {},
   "outputs": [],
   "source": [
    "dist=data['Distance (Mpc)']\n",
    "d=dist*3.086e22\n",
    "flux=data['1mm flux density (Jy)']\n",
    "fl=flux*1e-26\n",
    "freq=data['1mm frequency (Hz)']\n",
    "L_nu=fl*4*math.pi*((d)**2)\n",
    "L_nu_sol=L_nu\n",
    "lbol=data['Bolometric Luminosity (L_solar)']*3.828e26\n",
    "USB=data['USB Flux Density']\n",
    "USBfreq=data['USB Frequency (Hz)']\n",
    "usbfl=USB*1e-26\n",
    "usblum=usbfl*4*math.pi*(d)**2\n",
    "usbsol=usblum\n",
    "LSB=data['LSB Flux Density']\n",
    "LSBfreq=data['LSB Frequency (Hz)']\n",
    "lsbfl=LSB*1e-26\n",
    "lsblum=lsbfl*4*math.pi*(d)**2\n",
    "lsbsol=lsblum"
   ]
  },
  {
   "cell_type": "code",
   "execution_count": 4,
   "metadata": {},
   "outputs": [],
   "source": [
    "Lnu_lbol=L_nu_sol/lbol\n",
    "lognubol=np.log10(Lnu_lbol)\n",
    "lsb_lbol=lsbsol/lbol\n",
    "loglsblbol=np.log10(lsb_lbol)\n",
    "usb_lbol=usbsol/lbol\n",
    "logusblbol=np.log10(usb_lbol)\n",
    "logfr=np.log10(freq)"
   ]
  },
  {
   "cell_type": "code",
   "execution_count": 5,
   "metadata": {},
   "outputs": [],
   "source": [
    "cmap=plt.get_cmap('brg')\n",
    "cmap.set_bad('black')\n",
    "SI=data['Spectral Index']"
   ]
  },
  {
   "cell_type": "code",
   "execution_count": 6,
   "metadata": {},
   "outputs": [
    {
     "data": {
      "text/plain": [
       "<matplotlib.colorbar.Colorbar at 0x7f93f17f50d0>"
      ]
     },
     "execution_count": 6,
     "metadata": {},
     "output_type": "execute_result"
    },
    {
     "data": {
      "image/png": "[encoded data removed]",
      "text/plain": [
       "<Figure size 432x288 with 2 Axes>"
      ]
     },
     "metadata": {
      "needs_background": "light"
     },
     "output_type": "display_data"
    }
   ],
   "source": [
    "plt.scatter(logfr,lognubol,c=SI,cmap=cmap,plotnonfinite=True)\n",
    "#plt.plot(logfr,loglsblbol,'o')\n",
    "#plt.plot(logfr,logusblbol,'o')\n",
    "plt.xlabel('Log nu')\n",
    "plt.ylabel('Log L_nu/Lbol')\n",
    "plt.colorbar()"
   ]
  },
  {
   "cell_type": "code",
   "execution_count": null,
   "metadata": {},
   "outputs": [],
   "source": []
  }
 ],
 "metadata": {
  "kernelspec": {
   "display_name": "Python 3 (ipykernel)",
   "language": "python",
   "name": "python3"
  },
  "language_info": {
   "codemirror_mode": {
    "name": "ipython",
    "version": 3
   },
   "file_extension": ".py",
   "mimetype": "text/x-python",
   "name": "python",
   "nbconvert_exporter": "python",
   "pygments_lexer": "ipython3",
   "version": "3.9.12"
  }
 },
 "nbformat": 4,
 "nbformat_minor": 4
}
